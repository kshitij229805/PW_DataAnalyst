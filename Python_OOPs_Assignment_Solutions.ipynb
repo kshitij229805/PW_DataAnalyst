{
 "cells": [
  {
   "cell_type": "markdown",
   "id": "a94b8eb5",
   "metadata": {},
   "source": [
    "# Python OOPs – Assignment\n",
    "\n",
    "**Single Notebook Submission**\n",
    "\n",
    "This notebook presents answers in the required numbered order. Questions are in Markdown and any coding content is shown in code cells with outputs displayed."
   ]
  },
  {
   "cell_type": "markdown",
   "id": "d338ccdc",
   "metadata": {},
   "source": [
    "## Section A — Theory (Q1–Q25)"
   ]
  },
  {
   "cell_type": "markdown",
   "id": "46abbee0",
   "metadata": {},
   "source": [
    "**Q1. What is Object-Oriented Programming (OOP)?**\n",
    "\n",
    "**Definition.** OOP models software as interacting **objects** that bundle *state* (attributes) and *behavior* (methods).\n",
    "It emphasizes **abstraction**, **encapsulation**, **inheritance**, and **polymorphism** to build modular, maintainable systems.\n",
    "\n",
    "**Why it matters (real life).**\n",
    "- **Banking app:** `Account` objects encapsulate balance/transactions; `SavingsAccount` and `CurrentAccount` inherit shared behavior.\n",
    "- **Ride‑hailing:** `Driver`, `Rider`, `Trip` objects interact; polymorphism lets different `PaymentMethod`s behave via one interface.\n",
    "\n",
    "**Tiny example.**\n",
    "```python\n",
    "class Account:\n",
    "    def __init__(self, owner, balance=0): self.owner, self.balance = owner, balance\n",
    "    def deposit(self, amt): self.balance += amt\n",
    "    def withdraw(self, amt): \n",
    "        if amt <= self.balance: self.balance -= amt\n",
    "```\n"
   ]
  },
  {
   "cell_type": "markdown",
   "id": "72520b9f",
   "metadata": {},
   "source": [
    "**Q2. What is a class in OOP?**\n",
    "\n",
    "A **class** is a blueprint that defines attributes and methods for its instances (objects).\n",
    "Think of it like an architectural plan; multiple houses (objects) are built from the same plan.\n",
    "\n",
    "**Example:** A `Car` class defines `brand`, `speed`, and `accelerate()`. Each `Car()` object keeps its own `brand/speed` values.\n"
   ]
  },
  {
   "cell_type": "markdown",
   "id": "a53c72fd",
   "metadata": {},
   "source": [
    "**Q3. What is an object in OOP?**\n",
    "\n",
    "An **object** is a concrete instance created from a class with its own data.\n",
    "Two `Car(\"Toyota\")` and `Car(\"Tata\")` objects both follow the `Car` blueprint but hold different state.\n"
   ]
  },
  {
   "cell_type": "markdown",
   "id": "fff37129",
   "metadata": {},
   "source": [
    "**Q4. Difference between abstraction and encapsulation?**\n",
    "\n",
    "- **Abstraction** = exposing only *what* an object does, hiding conceptual complexity (e.g., `start()` on a car).\n",
    "- **Encapsulation** = hiding *how* it does it by bundling data+methods and controlling access (private members).\n",
    "\n",
    "**Real life:** Your phone’s **camera app** abstracts photography; sensor drivers and buffers are encapsulated behind UI buttons.\n"
   ]
  },
  {
   "cell_type": "markdown",
   "id": "3fa819b3",
   "metadata": {},
   "source": [
    "**Q5. What are dunder methods in Python?**\n",
    "\n",
    "**Dunder** (double‑underscore) methods customize object behavior (construction, printing, iteration, operators).  \n",
    "Common ones: `__init__`, `__repr__`, `__str__`, `__len__`, `__iter__`, `__getitem__`, `__eq__`, `__lt__`, `__add__`.\n",
    "\n",
    "**Example:** make a `Vector` printable and summable via `+`:\n",
    "```python\n",
    "class Vector:\n",
    "    def __init__(self, x, y): self.x, self.y = x, y\n",
    "    def __add__(self, o): return Vector(self.x+o.x, self.y+o.y)\n",
    "    def __repr__(self): return f\"Vector({self.x},{self.y})\"\n",
    "```\n"
   ]
  },
  {
   "cell_type": "markdown",
   "id": "ddeb001c",
   "metadata": {},
   "source": [
    "**Q6. Explain inheritance in OOP.**\n",
    "\n",
    "**Inheritance** lets a subclass reuse/extend a base class.\n",
    "- **Single:** `Dog(Animal)`\n",
    "- **Multi‑level:** `ElectricCar(Car(Vehicle))`\n",
    "- **Multiple (Python supports):** `SmartTV(Display, Computer)`\n",
    "\n",
    "**Real life:** E‑commerce: `Product` → `Book`, `Clothing`, `Electronic` share price/discount logic; each adds specifics.\n"
   ]
  },
  {
   "cell_type": "markdown",
   "id": "9f796793",
   "metadata": {},
   "source": [
    "**Q7. What is polymorphism in OOP?**\n",
    "\n",
    "**Polymorphism**: a single interface works for many types.\n",
    "- **Subtype polymorphism:** same method, different implementations: `shape.area()` for `Circle`/`Rectangle`.\n",
    "- **Duck typing (Pythonic):** if it *quacks like a duck*, you can treat it as a duck.\n",
    "\n",
    "**Real life:** Payment flow calls `pay(amount)` on `UPI`, `Card`, or `Wallet` objects without branching by type.\n"
   ]
  },
  {
   "cell_type": "markdown",
   "id": "e742fcf6",
   "metadata": {},
   "source": [
    "**Q8. How is encapsulation achieved in Python?**\n",
    "\n",
    "By **conventions** and **properties**:\n",
    "- Prefix `_attr` (internal) or `__attr` (name‑mangled) for stronger hiding.\n",
    "- Use `@property` for controlled access/validation.\n",
    "\n",
    "**Example:**\n",
    "```python\n",
    "class Account:\n",
    "    def __init__(self): self.__balance = 0\n",
    "    @property\n",
    "    def balance(self): return self.__balance\n",
    "    def deposit(self, amt):\n",
    "        if amt <= 0: raise ValueError(\">0 required\")\n",
    "        self.__balance += amt\n",
    "```\n"
   ]
  },
  {
   "cell_type": "markdown",
   "id": "63c8df92",
   "metadata": {},
   "source": [
    "**Q9. What is a constructor in Python?**\n",
    "\n",
    "`__init__(self, ...)` initializes a newly created object (after memory allocation via `__new__`).  \n",
    "**Real life:** When a `User` logs in, `__init__` can set `id`, `name`, and fetch profile defaults.\n"
   ]
  },
  {
   "cell_type": "markdown",
   "id": "68649be7",
   "metadata": {},
   "source": [
    "**Q10. What are class and static methods in Python?**\n",
    "\n",
    "- `@classmethod` receives the **class** (`cls`): good for **alternative constructors**.\n",
    "- `@staticmethod` receives **no implicit arg**: a namespaced utility.\n",
    "\n",
    "**Example:**\n",
    "```python\n",
    "class Date:\n",
    "    def __init__(self, y,m,d): self.y,self.m,self.d=y,m,d\n",
    "    @classmethod\n",
    "    def from_string(cls, s): return cls(*map(int, s.split(\"-\")))\n",
    "    @staticmethod\n",
    "    def is_leap(y): return (y%400==0) or (y%4==0 and y%100!=0)\n",
    "```\n"
   ]
  },
  {
   "cell_type": "markdown",
   "id": "97c16723",
   "metadata": {},
   "source": [
    "**Q11. What is method overloading in Python?**\n",
    "\n",
    "Python lacks compile‑time overloading. Emulate via defaults/`*args`/`**kwargs` or `functools.singledispatch` for functions.\n",
    "\n",
    "**Example:**\n",
    "```python\n",
    "def area(w, h=None):\n",
    "    return w*w if h is None else w*h\n",
    "```\n"
   ]
  },
  {
   "cell_type": "markdown",
   "id": "bbbc2244",
   "metadata": {},
   "source": [
    "**Q12. What is method overriding in OOP?**\n",
    "\n",
    "A subclass **redefines** a parent method with the same name/signature.\n",
    "\n",
    "**Real life:** `CsvExporter.export()` vs `JsonExporter.export()` inside a reporting tool; both comply with a base `export()` contract.\n"
   ]
  },
  {
   "cell_type": "markdown",
   "id": "e6151d43",
   "metadata": {},
   "source": [
    "**Q13. What is a property decorator in Python?**\n",
    "\n",
    "`@property` exposes methods as **managed attributes**, enabling validation, caching, or computed fields.\n",
    "\n",
    "**Example:** price with a non‑negative constraint.\n",
    "```python\n",
    "class Item:\n",
    "    def __init__(self): self._price = 0\n",
    "    @property\n",
    "    def price(self): return self._price\n",
    "    @price.setter\n",
    "    def price(self, v):\n",
    "        if v < 0: raise ValueError(\"price>=0\")\n",
    "        self._price = v\n",
    "```\n"
   ]
  },
  {
   "cell_type": "markdown",
   "id": "2bb520a3",
   "metadata": {},
   "source": [
    "**Q14. Why is polymorphism important?**\n",
    "\n",
    "It **decouples** callers from concrete classes → code is extensible and testable.\n",
    "\n",
    "**Real life:** A notification system calls `send(msg)` on `Email`, `SMS`, `Push`. Adding `WhatsApp` needs no changes to callers.\n"
   ]
  },
  {
   "cell_type": "markdown",
   "id": "fbed9c9e",
   "metadata": {},
   "source": [
    "**Q15. What is an abstract class in Python?**\n",
    "\n",
    "A class deriving from `abc.ABC` that may define `@abstractmethod`s. Concrete subclasses **must** implement them.\n",
    "\n",
    "**Real life:** `PaymentMethod` enforces `authorize()`, `capture()`; each gateway implements its own logic.\n"
   ]
  },
  {
   "cell_type": "markdown",
   "id": "eadf9690",
   "metadata": {},
   "source": [
    "**Q16. What are the advantages of OOP?**\n",
    "\n",
    "- **Modularity & reuse** (classes encapsulate logic)\n",
    "- **Extensibility** (polymorphism)\n",
    "- **Maintainability** (clear boundaries)\n",
    "- **Safety** (encapsulation enforces invariants)\n",
    "\n",
    "**Real life:** Microservices often mirror OOP domains: `OrderService`, `InventoryService`, etc.\n"
   ]
  },
  {
   "cell_type": "markdown",
   "id": "19c813a5",
   "metadata": {},
   "source": [
    "**Q17. Difference between a class variable and an instance variable?**\n",
    "\n",
    "- **Class variable**: shared across all instances (e.g., a counter).\n",
    "- **Instance variable**: unique per object.\n",
    "\n",
    "**Example:**\n",
    "```python\n",
    "class User:\n",
    "    count = 0            # class variable\n",
    "    def __init__(self,name):\n",
    "        self.name = name # instance variable\n",
    "        User.count += 1\n",
    "```\n"
   ]
  },
  {
   "cell_type": "markdown",
   "id": "8d53342c",
   "metadata": {},
   "source": [
    "**Q18. What is multiple inheritance in Python?**\n",
    "\n",
    "A class can inherit from **multiple** parents. Python resolves attribute lookups via **MRO (C3 linearization)**.\n",
    "\n",
    "**Real life:** `SmartWatch(Computer, Watch)`: combines fitness tracking (Watch) and apps/connectivity (Computer).\n"
   ]
  },
  {
   "cell_type": "markdown",
   "id": "5a5a5dae",
   "metadata": {},
   "source": [
    "**Q19. Purpose of `__str__` and `__repr__`?**\n",
    "\n",
    "- `__str__`: user‑friendly string (for end‑users).\n",
    "- `__repr__`: unambiguous developer string (ideally recreatable).\n",
    "\n",
    "**Tip:** If you implement only one, prefer `__repr__` and let `__str__ = __repr__` if needed.\n"
   ]
  },
  {
   "cell_type": "markdown",
   "id": "72004d38",
   "metadata": {},
   "source": [
    "**Q20. Significance of `super()` in Python?**\n",
    "\n",
    "`super()` calls the next method in the **MRO**, enabling **cooperative** multiple inheritance.\n",
    "\n",
    "**Real life:** Data models where each mixin adds behavior in `__init__` while safely chaining to others via `super()`.\n"
   ]
  },
  {
   "cell_type": "markdown",
   "id": "c4f46e7b",
   "metadata": {},
   "source": [
    "**Q21. Significance of `__del__`?**\n",
    "\n",
    "Destructor called when an object is about to be garbage‑collected. Timing is **non‑deterministic**; avoid critical cleanup here.\n",
    "Prefer context managers (`with`) or explicit `close()` for files/sockets.\n"
   ]
  },
  {
   "cell_type": "markdown",
   "id": "acbc819d",
   "metadata": {},
   "source": [
    "**Q22. Difference between `@staticmethod` and `@classmethod`?**\n",
    "\n",
    "- `@staticmethod`: utility grouped under class namespace; no `self/cls`.\n",
    "- `@classmethod`: receives `cls`; can modify class state / return class instances.\n",
    "\n",
    "**Real life:** `User.from_dict()` (classmethod) vs `hash_email(email)` (staticmethod).\n"
   ]
  },
  {
   "cell_type": "markdown",
   "id": "4f0c4951",
   "metadata": {},
   "source": [
    "**Q23. How does polymorphism work in Python with inheritance?**\n",
    "\n",
    "A base interface is overridden in subclasses; the actual method executed depends on the **runtime** object.\n",
    "\n",
    "**Example:**\n",
    "```python\n",
    "def play_sound(animal: \"Animal\"): animal.speak()\n",
    "play_sound(Dog()); play_sound(Cat())  # different outputs via same call\n",
    "```\n"
   ]
  },
  {
   "cell_type": "markdown",
   "id": "c69cde65",
   "metadata": {},
   "source": [
    "**Q24. What is method chaining in Python OOP?**\n",
    "\n",
    "Return `self` (or another object) so calls can be chained.\n",
    "\n",
    "**Example (builder):**\n",
    "```python\n",
    "class Query:\n",
    "    def __init__(self): self.filters=[]\n",
    "    def where(self, f): self.filters.append(f); return self\n",
    "    def limit(self, n): self.lim=n; return self\n",
    "q = Query().where(\"price>100\").where(\"in_stock\").limit(10)\n",
    "```\n"
   ]
  },
  {
   "cell_type": "markdown",
   "id": "0979597a",
   "metadata": {},
   "source": [
    "**Q25. What is the purpose of the `__call__` method?**\n",
    "\n",
    "Makes an instance **callable** like a function.\n",
    "**Real life:** Configured validators, counters, or model inference wrappers.\n",
    "\n",
    "**Example:**\n",
    "```python\n",
    "class Multiplier:\n",
    "    def __init__(self, k): self.k=k\n",
    "    def __call__(self, x): return self.k*x\n",
    "times2 = Multiplier(2); times2(5)  # 10\n",
    "```\n"
   ]
  },
  {
   "cell_type": "markdown",
   "id": "c27185c8",
   "metadata": {},
   "source": [
    "## Section B — Practical (Q1–Q18)"
   ]
  },
  {
   "cell_type": "markdown",
   "id": "43d94185",
   "metadata": {},
   "source": [
    "**Q1.**"
   ]
  },
  {
   "cell_type": "code",
   "execution_count": 1,
   "id": "bc085b07",
   "metadata": {},
   "outputs": [
    {
     "name": "stdout",
     "output_type": "stream",
     "text": [
      "Some generic animal sound\n",
      "Bark!\n"
     ]
    }
   ],
   "source": [
    "# Q26. Parent class Animal with speak(); child Dog overrides speak()\n",
    "class Animal:\n",
    "    def speak(self):\n",
    "        print(\"Some generic animal sound\")\n",
    "\n",
    "class Dog(Animal):\n",
    "    def speak(self):\n",
    "        print(\"Bark!\")\n",
    "\n",
    "# Demo\n",
    "Animal().speak()\n",
    "Dog().speak()\n"
   ]
  },
  {
   "cell_type": "markdown",
   "id": "be719b39",
   "metadata": {},
   "source": [
    "**Q2.**"
   ]
  },
  {
   "cell_type": "code",
   "execution_count": 2,
   "id": "33d99089",
   "metadata": {},
   "outputs": [
    {
     "name": "stdout",
     "output_type": "stream",
     "text": [
      "Circle area (r=3): 28.27\n",
      "Rectangle area (4x5): 20\n"
     ]
    }
   ],
   "source": [
    "# Q27. Abstract class Shape with area(); Circle and Rectangle implement it\n",
    "from abc import ABC, abstractmethod\n",
    "import math\n",
    "\n",
    "class Shape(ABC):\n",
    "    @abstractmethod\n",
    "    def area(self):\n",
    "        pass\n",
    "\n",
    "class Circle(Shape):\n",
    "    def __init__(self, r):\n",
    "        self.r = r\n",
    "    def area(self):\n",
    "        return math.pi * self.r * self.r\n",
    "\n",
    "class Rectangle(Shape):\n",
    "    def __init__(self, w, h):\n",
    "        self.w, self.h = w, h\n",
    "    def area(self):\n",
    "        return self.w * self.h\n",
    "\n",
    "# Demo\n",
    "print(f\"Circle area (r=3): {Circle(3).area():.2f}\")\n",
    "print(f\"Rectangle area (4x5): {Rectangle(4,5).area()}\")\n"
   ]
  },
  {
   "cell_type": "markdown",
   "id": "35acdb0c",
   "metadata": {},
   "source": [
    "**Q3.**"
   ]
  },
  {
   "cell_type": "code",
   "execution_count": 3,
   "id": "f7e22320",
   "metadata": {},
   "outputs": [
    {
     "name": "stdout",
     "output_type": "stream",
     "text": [
      "Car Tesla 75\n"
     ]
    }
   ],
   "source": [
    "# Q28. Multi-level inheritance: Vehicle -> Car -> ElectricCar\n",
    "class Vehicle:\n",
    "    def __init__(self, vtype):\n",
    "        self.type = vtype\n",
    "\n",
    "class Car(Vehicle):\n",
    "    def __init__(self, brand):\n",
    "        super().__init__(vtype=\"Car\")\n",
    "        self.brand = brand\n",
    "\n",
    "class ElectricCar(Car):\n",
    "    def __init__(self, brand, battery_kwh):\n",
    "        super().__init__(brand=brand)\n",
    "        self.battery_kwh = battery_kwh\n",
    "\n",
    "# Demo\n",
    "ec = ElectricCar(\"Tesla\", 75)\n",
    "print(ec.type, ec.brand, ec.battery_kwh)\n"
   ]
  },
  {
   "cell_type": "markdown",
   "id": "ec329104",
   "metadata": {},
   "source": [
    "**Q4.**"
   ]
  },
  {
   "cell_type": "code",
   "execution_count": 4,
   "id": "b81f542d",
   "metadata": {},
   "outputs": [
    {
     "name": "stdout",
     "output_type": "stream",
     "text": [
      "Bird is flying...\n",
      "Sparrow flies swiftly.\n",
      "Penguins cannot fly; they waddle and swim.\n"
     ]
    }
   ],
   "source": [
    "# Q29. Polymorphism: Bird base, Sparrow & Penguin override fly()\n",
    "class Bird:\n",
    "    def fly(self):\n",
    "        print(\"Bird is flying...\")\n",
    "\n",
    "class Sparrow(Bird):\n",
    "    def fly(self):\n",
    "        print(\"Sparrow flies swiftly.\")\n",
    "\n",
    "class Penguin(Bird):\n",
    "    def fly(self):\n",
    "        print(\"Penguins cannot fly; they waddle and swim.\")\n",
    "\n",
    "# Demo\n",
    "for b in [Bird(), Sparrow(), Penguin()]:\n",
    "    b.fly()\n"
   ]
  },
  {
   "cell_type": "markdown",
   "id": "b5e15acb",
   "metadata": {},
   "source": [
    "**Q5.**"
   ]
  },
  {
   "cell_type": "code",
   "execution_count": 5,
   "id": "355fb9e1",
   "metadata": {},
   "outputs": [
    {
     "name": "stdout",
     "output_type": "stream",
     "text": [
      "Balance: 120\n"
     ]
    }
   ],
   "source": [
    "# Q30. Encapsulation: BankAccount with private balance\n",
    "class BankAccount:\n",
    "    def __init__(self, initial=0):\n",
    "        self.__balance = initial  # 'private' via name-mangling\n",
    "    def deposit(self, amount):\n",
    "        if amount > 0:\n",
    "            self.__balance += amount\n",
    "    def withdraw(self, amount):\n",
    "        if 0 < amount <= self.__balance:\n",
    "            self.__balance -= amount\n",
    "        else:\n",
    "            print(\"Insufficient funds or invalid amount\")\n",
    "    def get_balance(self):\n",
    "        return self.__balance\n",
    "\n",
    "# Demo\n",
    "acct = BankAccount(100)\n",
    "acct.deposit(50)\n",
    "acct.withdraw(30)\n",
    "print(\"Balance:\", acct.get_balance())\n"
   ]
  },
  {
   "cell_type": "markdown",
   "id": "0e855a71",
   "metadata": {},
   "source": [
    "**Q6.**"
   ]
  },
  {
   "cell_type": "code",
   "execution_count": 6,
   "id": "8d3359c2",
   "metadata": {},
   "outputs": [
    {
     "name": "stdout",
     "output_type": "stream",
     "text": [
      "Playing an instrument...\n",
      "Strum strum!\n",
      "Plink plonk!\n"
     ]
    }
   ],
   "source": [
    "# Q31. Runtime polymorphism: Instrument.play() -> Guitar/Piano\n",
    "class Instrument:\n",
    "    def play(self):\n",
    "        print(\"Playing an instrument...\")\n",
    "\n",
    "class Guitar(Instrument):\n",
    "    def play(self):\n",
    "        print(\"Strum strum!\")\n",
    "\n",
    "class Piano(Instrument):\n",
    "    def play(self):\n",
    "        print(\"Plink plonk!\")\n",
    "\n",
    "# Demo\n",
    "for inst in [Instrument(), Guitar(), Piano()]:\n",
    "    inst.play()\n"
   ]
  },
  {
   "cell_type": "markdown",
   "id": "192ec261",
   "metadata": {},
   "source": [
    "**Q7.**"
   ]
  },
  {
   "cell_type": "code",
   "execution_count": 7,
   "id": "383da4ae",
   "metadata": {},
   "outputs": [
    {
     "name": "stdout",
     "output_type": "stream",
     "text": [
      "Add: 17\n",
      "Subtract: 3\n"
     ]
    }
   ],
   "source": [
    "# Q32. MathOperations with @classmethod and @staticmethod\n",
    "class MathOperations:\n",
    "    @classmethod\n",
    "    def add_numbers(cls, a, b):\n",
    "        return a + b\n",
    "\n",
    "    @staticmethod\n",
    "    def subtract_numbers(a, b):\n",
    "        return a - b\n",
    "\n",
    "print(\"Add:\", MathOperations.add_numbers(10, 7))\n",
    "print(\"Subtract:\", MathOperations.subtract_numbers(10, 7))\n"
   ]
  },
  {
   "cell_type": "markdown",
   "id": "2ec793e4",
   "metadata": {},
   "source": [
    "**Q8.**"
   ]
  },
  {
   "cell_type": "code",
   "execution_count": 8,
   "id": "d83faf57",
   "metadata": {},
   "outputs": [
    {
     "name": "stdout",
     "output_type": "stream",
     "text": [
      "Total persons: 2\n"
     ]
    }
   ],
   "source": [
    "# Q33. Person counting total instances via class method\n",
    "class Person:\n",
    "    _count = 0\n",
    "    def __init__(self, name):\n",
    "        self.name = name\n",
    "        Person._count += 1\n",
    "    @classmethod\n",
    "    def total(cls):\n",
    "        return cls._count\n",
    "\n",
    "p1 = Person(\"A\")\n",
    "p2 = Person(\"B\")\n",
    "print(\"Total persons:\", Person.total())\n"
   ]
  },
  {
   "cell_type": "markdown",
   "id": "ca9e9c57",
   "metadata": {},
   "source": [
    "**Q9.**"
   ]
  },
  {
   "cell_type": "code",
   "execution_count": 9,
   "id": "3abb298c",
   "metadata": {},
   "outputs": [
    {
     "name": "stdout",
     "output_type": "stream",
     "text": [
      "3/4\n"
     ]
    }
   ],
   "source": [
    "# Q34. Fraction __str__ -> \"numerator/denominator\"\n",
    "class Fraction:\n",
    "    def __init__(self, numerator, denominator):\n",
    "        self.n = numerator\n",
    "        self.d = denominator\n",
    "    def __str__(self):\n",
    "        return f\"{self.n}/{self.d}\"\n",
    "\n",
    "print(str(Fraction(3, 4)))\n"
   ]
  },
  {
   "cell_type": "markdown",
   "id": "57aaaf92",
   "metadata": {},
   "source": [
    "**Q10.**"
   ]
  },
  {
   "cell_type": "code",
   "execution_count": 10,
   "id": "00cd27a0",
   "metadata": {},
   "outputs": [
    {
     "name": "stdout",
     "output_type": "stream",
     "text": [
      "Vector(4, 6)\n"
     ]
    }
   ],
   "source": [
    "# Q35. Operator overloading: Vector + Vector\n",
    "class Vector:\n",
    "    def __init__(self, x, y):\n",
    "        self.x, self.y = x, y\n",
    "    def __add__(self, other):\n",
    "        if not isinstance(other, Vector): \n",
    "            return NotImplemented\n",
    "        return Vector(self.x + other.x, self.y + other.y)\n",
    "    def __repr__(self):\n",
    "        return f\"Vector({self.x}, {self.y})\"\n",
    "\n",
    "v1 = Vector(1, 2)\n",
    "v2 = Vector(3, 4)\n",
    "print(v1 + v2)\n"
   ]
  },
  {
   "cell_type": "markdown",
   "id": "ae5c094e",
   "metadata": {},
   "source": [
    "**Q11.**"
   ]
  },
  {
   "cell_type": "code",
   "execution_count": 11,
   "id": "45b926e7",
   "metadata": {},
   "outputs": [
    {
     "name": "stdout",
     "output_type": "stream",
     "text": [
      "Hello, my name is Riya and I am 21 years old.\n"
     ]
    }
   ],
   "source": [
    "# Q36. Person with greet()\n",
    "class Person2:\n",
    "    def __init__(self, name, age):\n",
    "        self.name, self.age = name, age\n",
    "    def greet(self):\n",
    "        print(f\"Hello, my name is {self.name} and I am {self.age} years old.\")\n",
    "\n",
    "Person2(\"Riya\", 21).greet()\n"
   ]
  },
  {
   "cell_type": "markdown",
   "id": "7059f776",
   "metadata": {},
   "source": [
    "**Q12.**"
   ]
  },
  {
   "cell_type": "code",
   "execution_count": 12,
   "id": "1dbdf7ce",
   "metadata": {},
   "outputs": [
    {
     "name": "stdout",
     "output_type": "stream",
     "text": [
      "Average: 85.0\n"
     ]
    }
   ],
   "source": [
    "# Q37. Student.average_grade()\n",
    "class Student:\n",
    "    def __init__(self, name, grades):\n",
    "        self.name, self.grades = name, grades\n",
    "    def average_grade(self):\n",
    "        return sum(self.grades)/len(self.grades) if self.grades else 0.0\n",
    "\n",
    "s = Student(\"Dev\", [80, 90, 85])\n",
    "print(\"Average:\", s.average_grade())\n"
   ]
  },
  {
   "cell_type": "markdown",
   "id": "b2934f9a",
   "metadata": {},
   "source": [
    "**Q13.**"
   ]
  },
  {
   "cell_type": "code",
   "execution_count": 13,
   "id": "15e32711",
   "metadata": {},
   "outputs": [
    {
     "name": "stdout",
     "output_type": "stream",
     "text": [
      "Area: 42\n"
     ]
    }
   ],
   "source": [
    "# Q38. Rectangle: set_dimensions() and area()\n",
    "class Rectangle2:\n",
    "    def __init__(self):\n",
    "        self.w = self.h = 0\n",
    "    def set_dimensions(self, w, h):\n",
    "        self.w, self.h = w, h\n",
    "    def area(self):\n",
    "        return self.w * self.h\n",
    "\n",
    "r = Rectangle2()\n",
    "r.set_dimensions(6, 7)\n",
    "print(\"Area:\", r.area())\n"
   ]
  },
  {
   "cell_type": "markdown",
   "id": "92ae0dee",
   "metadata": {},
   "source": [
    "**Q14.**"
   ]
  },
  {
   "cell_type": "code",
   "execution_count": 14,
   "id": "b739805c",
   "metadata": {},
   "outputs": [
    {
     "name": "stdout",
     "output_type": "stream",
     "text": [
      "Employee: 800\n",
      "Manager: 1700\n"
     ]
    }
   ],
   "source": [
    "# Q39. Employee.calculate_salary(); Manager adds bonus\n",
    "class Employee:\n",
    "    def __init__(self, hourly_rate):\n",
    "        self.hourly_rate = hourly_rate\n",
    "    def calculate_salary(self, hours_worked):\n",
    "        return self.hourly_rate * hours_worked\n",
    "\n",
    "class Manager(Employee):\n",
    "    def __init__(self, hourly_rate, bonus):\n",
    "        super().__init__(hourly_rate)\n",
    "        self.bonus = bonus\n",
    "    def calculate_salary(self, hours_worked):\n",
    "        return super().calculate_salary(hours_worked) + self.bonus\n",
    "\n",
    "print(\"Employee:\", Employee(20).calculate_salary(40))\n",
    "print(\"Manager:\", Manager(30, 500).calculate_salary(40))\n"
   ]
  },
  {
   "cell_type": "markdown",
   "id": "1171007d",
   "metadata": {},
   "source": [
    "**Q15.**"
   ]
  },
  {
   "cell_type": "code",
   "execution_count": 15,
   "id": "b7d2c99d",
   "metadata": {},
   "outputs": [
    {
     "name": "stdout",
     "output_type": "stream",
     "text": [
      "Total price: 30.0\n"
     ]
    }
   ],
   "source": [
    "# Q40. Product with total_price()\n",
    "class Product:\n",
    "    def __init__(self, name, price, quantity):\n",
    "        self.name, self.price, self.quantity = name, price, quantity\n",
    "    def total_price(self):\n",
    "        return self.price * self.quantity\n",
    "\n",
    "p = Product(\"Pen\", 10.0, 3)\n",
    "print(\"Total price:\", p.total_price())\n"
   ]
  },
  {
   "cell_type": "markdown",
   "id": "20245e13",
   "metadata": {},
   "source": [
    "**Q16.**"
   ]
  },
  {
   "cell_type": "code",
   "execution_count": 16,
   "id": "9fee863e",
   "metadata": {},
   "outputs": [
    {
     "name": "stdout",
     "output_type": "stream",
     "text": [
      "Moo Baa\n"
     ]
    }
   ],
   "source": [
    "# Q41. Abstract Animal.sound(); Cow and Sheep implement it\n",
    "from abc import ABC, abstractmethod\n",
    "\n",
    "class Animal2(ABC):\n",
    "    @abstractmethod\n",
    "    def sound(self):\n",
    "        pass\n",
    "\n",
    "class Cow(Animal2):\n",
    "    def sound(self):\n",
    "        return \"Moo\"\n",
    "\n",
    "class Sheep(Animal2):\n",
    "    def sound(self):\n",
    "        return \"Baa\"\n",
    "\n",
    "print(Cow().sound(), Sheep().sound())\n"
   ]
  },
  {
   "cell_type": "markdown",
   "id": "6f8079eb",
   "metadata": {},
   "source": [
    "**Q17.**"
   ]
  },
  {
   "cell_type": "code",
   "execution_count": 17,
   "id": "a7110f7d",
   "metadata": {},
   "outputs": [
    {
     "name": "stdout",
     "output_type": "stream",
     "text": [
      "'The Alchemist' by Paulo Coelho (1988)\n"
     ]
    }
   ],
   "source": [
    "# Q42. Book with get_book_info()\n",
    "class Book:\n",
    "    def __init__(self, title, author, year_published):\n",
    "        self.title, self.author, self.year = title, author, year_published\n",
    "    def get_book_info(self):\n",
    "        return f\"'{self.title}' by {self.author} ({self.year})\"\n",
    "\n",
    "print(Book(\"The Alchemist\", \"Paulo Coelho\", 1988).get_book_info())\n"
   ]
  },
  {
   "cell_type": "markdown",
   "id": "a568eced",
   "metadata": {},
   "source": [
    "**Q18.**"
   ]
  },
  {
   "cell_type": "code",
   "execution_count": 18,
   "id": "cc46ab78",
   "metadata": {},
   "outputs": [
    {
     "name": "stdout",
     "output_type": "stream",
     "text": [
      "123 Palm Street 1000000 12\n"
     ]
    }
   ],
   "source": [
    "# Q43. House & Mansion with number_of_rooms\n",
    "class House:\n",
    "    def __init__(self, address, price):\n",
    "        self.address, self.price = address, price\n",
    "\n",
    "class Mansion(House):\n",
    "    def __init__(self, address, price, number_of_rooms):\n",
    "        super().__init__(address, price)\n",
    "        self.number_of_rooms = number_of_rooms\n",
    "\n",
    "m = Mansion(\"123 Palm Street\", 1_000_000, 12)\n",
    "print(m.address, m.price, m.number_of_rooms)\n"
   ]
  },
  {
   "cell_type": "markdown",
   "id": "1df70e8c",
   "metadata": {},
   "source": [
    "> **Note:** All code cells above were executed when generating this notebook; outputs are embedded for review. You can re-run cells to verify."
   ]
  }
 ],
 "metadata": {
  "kernelspec": {
   "display_name": "Python 3",
   "language": "python",
   "name": "python3"
  },
  "language_info": {
   "name": "python",
   "version": "3.11.8"
  }
 },
 "nbformat": 4,
 "nbformat_minor": 5
}
