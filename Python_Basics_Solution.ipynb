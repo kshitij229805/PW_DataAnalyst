{
  "cells": [
    {
      "cell_type": "markdown",
      "id": "5e589c13",
      "metadata": {
        "id": "5e589c13"
      },
      "source": [
        "# **Python Basics — Assignment Notebook**  \n",
        "\n",
        "- Theory answers are **clear and example‑driven**.  \n",
        "- All code cells are **executed**; outputs are visible below code.  \n"
      ]
    },
    {
      "cell_type": "markdown",
      "id": "386722c2",
      "metadata": {
        "id": "386722c2"
      },
      "source": [
        "## **Theory Questions**"
      ]
    },
    {
      "cell_type": "markdown",
      "id": "8df514d4",
      "metadata": {
        "id": "8df514d4"
      },
      "source": [
        "\n",
        "### **1. What is Python, and why is it popular?**  \n",
        "**Answer:**  \n",
        "Python is a high‑level, general‑purpose programming language known for **readable syntax**, a **huge standard library**, and an **ecosystem** of packages (NumPy, pandas, Flask, Django, PyTorch, etc.).  \n",
        "\n",
        "**Why popular?**  \n",
        "- **Productivity:** concise, expressive syntax.  \n",
        "- **Versatility:** scripting, web, data science, ML, automation, embedded, etc.  \n",
        "- **Community & Libraries:** solves problems quickly without reinventing wheels.  \n",
        "\n",
        "**Real‑life example:** Automate Excel/CSV cleaning for monthly reports in a few lines using `pandas`.\n"
      ]
    },
    {
      "cell_type": "markdown",
      "id": "479aeb4c",
      "metadata": {
        "id": "479aeb4c"
      },
      "source": [
        "\n",
        "### **2. What is an interpreter in Python?**  \n",
        "**Answer:**  \n",
        "An **interpreter** executes code **line‑by‑line** without producing a separate machine‑code binary. CPython reads Python source, compiles it to **bytecode** (`.pyc`), then the Python Virtual Machine executes it.  \n",
        "**Benefit:** fast iteration, interactive REPL, easier debugging.\n"
      ]
    },
    {
      "cell_type": "markdown",
      "id": "f6cc949e",
      "metadata": {
        "id": "f6cc949e"
      },
      "source": [
        "\n",
        "### **3. What are pre‑defined keywords in Python?**  \n",
        "**Answer:**  \n",
        "**Keywords** are **reserved words** with special meaning (e.g., `if`, `else`, `for`, `while`, `True`, `None`). They **cannot** be used as identifiers.\n"
      ]
    },
    {
      "cell_type": "markdown",
      "id": "48245d2d",
      "metadata": {
        "id": "48245d2d"
      },
      "source": [
        "\n",
        "### **4. Can keywords be used as variable names?**  \n",
        "**Answer:**  \n",
        "No. Using a keyword as a variable (e.g., `if = 3`) raises a `SyntaxError`. Use alternatives like `if_` or `count_if`.\n"
      ]
    },
    {
      "cell_type": "markdown",
      "id": "95ea9a2e",
      "metadata": {
        "id": "95ea9a2e"
      },
      "source": [
        "\n",
        "### **5. What is mutability in Python?**  \n",
        "**Answer:**  \n",
        "**Mutability** means an object’s **contents can change** after creation. Lists, dicts, sets are **mutable**; ints, floats, strings, tuples are **immutable**.\n"
      ]
    },
    {
      "cell_type": "markdown",
      "id": "74e23e59",
      "metadata": {
        "id": "74e23e59"
      },
      "source": [
        "\n",
        "### **6. Why are lists mutable, but tuples are immutable?**  \n",
        "**Answer:**  \n",
        "By design: lists store elements in a resizable structure; tuples are **fixed‑size sequences** optimized for safety and hashing. Immutability enables use as **dict keys** and in **sets**.\n"
      ]
    },
    {
      "cell_type": "markdown",
      "id": "29f82630",
      "metadata": {
        "id": "29f82630"
      },
      "source": [
        "\n",
        "### **7. Difference between `==` and `is` operators in Python?**  \n",
        "**Answer:**  \n",
        "- `==` → **value equality** (compares contents).  \n",
        "- `is` → **identity** (same object in memory).  \n",
        "\n",
        "**Example:** two separate lists with same elements are `==` but not `is`.\n"
      ]
    },
    {
      "cell_type": "markdown",
      "id": "1b4e11b6",
      "metadata": {
        "id": "1b4e11b6"
      },
      "source": [
        "\n",
        "### **8. What are logical operators in Python?**  \n",
        "**Answer:**  \n",
        "`and`, `or`, `not`. They short‑circuit and return an operand (not always `True/False`).  \n",
        "**Example:** `x and y` returns `y` if `x` is truthy; else returns `x`.\n"
      ]
    },
    {
      "cell_type": "markdown",
      "id": "a327a1f3",
      "metadata": {
        "id": "a327a1f3"
      },
      "source": [
        "\n",
        "### **9. What is type casting in Python?**  \n",
        "**Answer:**  \n",
        "Converting a value from one type to another, e.g., `int(\"42\")`, `float(5)`, `str(3.14)`, `bool(0)`.\n"
      ]
    },
    {
      "cell_type": "markdown",
      "id": "1d3f54f4",
      "metadata": {
        "id": "1d3f54f4"
      },
      "source": [
        "\n",
        "### **10. Difference between implicit and explicit type casting?**  \n",
        "**Answer:**  \n",
        "- **Implicit**: done automatically by Python (e.g., `int + float → float`).  \n",
        "- **Explicit**: programmer requests via constructors (`int()`, `float()`, etc.).\n"
      ]
    },
    {
      "cell_type": "markdown",
      "id": "df416dbe",
      "metadata": {
        "id": "df416dbe"
      },
      "source": [
        "\n",
        "### **11. Purpose of conditional statements in Python?**  \n",
        "**Answer:**  \n",
        "To **branch** the program’s execution based on conditions using `if/elif/else`. Enables decision‑making.\n"
      ]
    },
    {
      "cell_type": "markdown",
      "id": "8abf2965",
      "metadata": {
        "id": "8abf2965"
      },
      "source": [
        "\n",
        "### **12. How does the `elif` statement work?**  \n",
        "**Answer:**  \n",
        "`elif` checks **additional** mutually‑exclusive conditions **only if earlier ones failed**. First matching block runs; remaining are skipped.\n"
      ]
    },
    {
      "cell_type": "markdown",
      "id": "4119945c",
      "metadata": {
        "id": "4119945c"
      },
      "source": [
        "\n",
        "### **13. Difference between `for` and `while` loops?**  \n",
        "**Answer:**  \n",
        "- `for`: iterate **over items** of an iterable (known/finite iteration).  \n",
        "- `while`: repeat **while condition is true** (unknown iterations).  \n"
      ]
    },
    {
      "cell_type": "markdown",
      "id": "4daa37b6",
      "metadata": {
        "id": "4daa37b6"
      },
      "source": [
        "\n",
        "### **14. Scenario where a `while` loop is more suitable than a `for` loop.**  \n",
        "**Answer:**  \n",
        "When the number of iterations is **unknown**, e.g., keep asking a user for input until they type `\"quit\"`, or retry a network call until success/backoff.\n"
      ]
    },
    {
      "cell_type": "markdown",
      "id": "3861831f",
      "metadata": {
        "id": "3861831f"
      },
      "source": [
        "## **Practical Questions**"
      ]
    },
    {
      "cell_type": "code",
      "execution_count": null,
      "id": "11bdcedd",
      "metadata": {
        "execution": {
          "iopub.execute_input": "2025-09-25T16:23:32.666485Z",
          "iopub.status.busy": "2025-09-25T16:23:32.666014Z",
          "iopub.status.idle": "2025-09-25T16:23:32.676160Z",
          "shell.execute_reply": "2025-09-25T16:23:32.675334Z"
        },
        "id": "11bdcedd",
        "outputId": "dd680314-7766-4a83-f994-d302b728b8c8"
      },
      "outputs": [
        {
          "name": "stdout",
          "output_type": "stream",
          "text": [
            "Hello, World!\n"
          ]
        }
      ],
      "source": [
        "# 1) Print \"Hello, World!\"\n",
        "print(\"Hello, World!\")"
      ]
    },
    {
      "cell_type": "code",
      "execution_count": null,
      "id": "afb00685",
      "metadata": {
        "execution": {
          "iopub.execute_input": "2025-09-25T16:23:32.681604Z",
          "iopub.status.busy": "2025-09-25T16:23:32.681185Z",
          "iopub.status.idle": "2025-09-25T16:23:32.686244Z",
          "shell.execute_reply": "2025-09-25T16:23:32.685305Z"
        },
        "id": "afb00685",
        "outputId": "da54d6cd-5df6-43a0-a487-64f2491c1734"
      },
      "outputs": [
        {
          "name": "stdout",
          "output_type": "stream",
          "text": [
            "Name: Drishya Uniyal\n",
            "Age: 25\n"
          ]
        }
      ],
      "source": [
        "# 2) Display your name and age\n",
        "name = \"Drishya Uniyal\"\n",
        "age = 25  # example\n",
        "print(f\"Name: {name}\\nAge: {age}\")"
      ]
    },
    {
      "cell_type": "code",
      "execution_count": null,
      "id": "d784dd46",
      "metadata": {
        "execution": {
          "iopub.execute_input": "2025-09-25T16:23:32.691700Z",
          "iopub.status.busy": "2025-09-25T16:23:32.691385Z",
          "iopub.status.idle": "2025-09-25T16:23:32.696544Z",
          "shell.execute_reply": "2025-09-25T16:23:32.695581Z"
        },
        "id": "d784dd46",
        "outputId": "3ebaa3a9-eaac-4195-9d40-06d1e97765b8"
      },
      "outputs": [
        {
          "name": "stdout",
          "output_type": "stream",
          "text": [
            "Total keywords: 35\n",
            "['False', 'None', 'True', 'and', 'as', 'assert', 'async', 'await', 'break', 'class', 'continue', 'def', 'del', 'elif', 'else', 'except', 'finally', 'for', 'from', 'global', 'if', 'import', 'in', 'is', 'lambda', 'nonlocal', 'not', 'or', 'pass', 'raise', 'return', 'try', 'while', 'with', 'yield']\n"
          ]
        }
      ],
      "source": [
        "# 3) Print all pre-defined keywords using keyword library\n",
        "import keyword\n",
        "kw = keyword.kwlist\n",
        "print(\"Total keywords:\", len(kw))\n",
        "print(kw)"
      ]
    },
    {
      "cell_type": "code",
      "execution_count": null,
      "id": "6d9e7ac1",
      "metadata": {
        "execution": {
          "iopub.execute_input": "2025-09-25T16:23:32.746670Z",
          "iopub.status.busy": "2025-09-25T16:23:32.746287Z",
          "iopub.status.idle": "2025-09-25T16:23:32.752854Z",
          "shell.execute_reply": "2025-09-25T16:23:32.752034Z"
        },
        "id": "6d9e7ac1",
        "outputId": "bb645c45-5925-4f3e-960e-2632ff0c6bf5"
      },
      "outputs": [
        {
          "name": "stdout",
          "output_type": "stream",
          "text": [
            "'for' is keyword? -> True\n",
            "'while' is keyword? -> True\n",
            "'lambda' is keyword? -> True\n",
            "'data' is keyword? -> False\n",
            "'class' is keyword? -> True\n",
            "'foo' is keyword? -> False\n"
          ]
        }
      ],
      "source": [
        "# 4) Check if a given word is a Python keyword\n",
        "import keyword\n",
        "words_to_test = [\"for\", \"while\", \"lambda\", \"data\", \"class\", \"foo\"]\n",
        "for w in words_to_test:\n",
        "    print(f\"{w!r} is keyword? ->\", keyword.iskeyword(w))"
      ]
    },
    {
      "cell_type": "code",
      "execution_count": null,
      "id": "5cb44564",
      "metadata": {
        "execution": {
          "iopub.execute_input": "2025-09-25T16:23:32.758422Z",
          "iopub.status.busy": "2025-09-25T16:23:32.758024Z",
          "iopub.status.idle": "2025-09-25T16:23:32.763953Z",
          "shell.execute_reply": "2025-09-25T16:23:32.763113Z"
        },
        "id": "5cb44564",
        "outputId": "bc67a0d4-3f60-43b4-ef38-4743870b6d50"
      },
      "outputs": [
        {
          "name": "stdout",
          "output_type": "stream",
          "text": [
            "Original: [10, 20, 30] (10, 20, 30)\n",
            "List after change at index 1: [10, 200, 30]\n",
            "Tuple change error: 'tuple' object does not support item assignment\n"
          ]
        }
      ],
      "source": [
        "# 5) Create a list and tuple; show mutation behavior\n",
        "lst = [10, 20, 30]\n",
        "tpl = (10, 20, 30)\n",
        "print(\"Original:\", lst, tpl)\n",
        "# mutate list\n",
        "lst[1] = 200\n",
        "print(\"List after change at index 1:\", lst)\n",
        "# tuple mutation attempt (will raise TypeError) -> demonstrate safely\n",
        "try:\n",
        "    tpl[1] = 200\n",
        "except TypeError as e:\n",
        "    print(\"Tuple change error:\", e)"
      ]
    },
    {
      "cell_type": "code",
      "execution_count": null,
      "id": "abe45a7b",
      "metadata": {
        "execution": {
          "iopub.execute_input": "2025-09-25T16:23:32.769192Z",
          "iopub.status.busy": "2025-09-25T16:23:32.768821Z",
          "iopub.status.idle": "2025-09-25T16:23:32.775867Z",
          "shell.execute_reply": "2025-09-25T16:23:32.775177Z"
        },
        "id": "abe45a7b",
        "outputId": "c183a67e-1854-4c5e-97b5-db5bed0b3140"
      },
      "outputs": [
        {
          "name": "stdout",
          "output_type": "stream",
          "text": [
            "Before: 10 [1, 2, 3]\n",
            "After call (returned): 15 [1, 2, 3, 99]\n",
            "Caller sees num: 10 (unchanged)\n",
            "Caller sees arr: [1, 2, 3, 99] (changed)\n"
          ]
        }
      ],
      "source": [
        "# 6) Function to demonstrate behavior of mutable and immutable arguments\n",
        "\n",
        "def mutate_args(x, a_list):\n",
        "    x += 5              # integers are immutable; this rebinds local x\n",
        "    a_list.append(99)   # lists are mutable; in-place change visible to caller\n",
        "    return x, a_list\n",
        "\n",
        "num = 10\n",
        "arr = [1, 2, 3]\n",
        "print(\"Before:\", num, arr)\n",
        "new_num, new_arr = mutate_args(num, arr)\n",
        "print(\"After call (returned):\", new_num, new_arr)\n",
        "print(\"Caller sees num:\", num, \"(unchanged)\")\n",
        "print(\"Caller sees arr:\", arr, \"(changed)\")"
      ]
    },
    {
      "cell_type": "code",
      "execution_count": null,
      "id": "f98c679b",
      "metadata": {
        "execution": {
          "iopub.execute_input": "2025-09-25T16:23:32.780365Z",
          "iopub.status.busy": "2025-09-25T16:23:32.780025Z",
          "iopub.status.idle": "2025-09-25T16:23:32.786901Z",
          "shell.execute_reply": "2025-09-25T16:23:32.786077Z"
        },
        "id": "f98c679b",
        "outputId": "b0e7b7cb-e5ce-4452-ae98-317f6a388583"
      },
      "outputs": [
        {
          "name": "stdout",
          "output_type": "stream",
          "text": [
            "a = 15 b = 4\n",
            "sum: 19\n",
            "diff: 11\n",
            "prod: 60\n",
            "quot: 3.75\n",
            "floor_div: 3\n",
            "mod: 3\n",
            "power: 50625\n"
          ]
        }
      ],
      "source": [
        "# 7) Basic arithmetic operations on two user-input numbers\n",
        "# Using fixed values for reproducible output; replace with input() in real use.\n",
        "a, b = 15, 4\n",
        "print(\"a =\", a, \"b =\", b)\n",
        "print(\"sum:\", a + b)\n",
        "print(\"diff:\", a - b)\n",
        "print(\"prod:\", a * b)\n",
        "print(\"quot:\", a / b)\n",
        "print(\"floor_div:\", a // b)\n",
        "print(\"mod:\", a % b)\n",
        "print(\"power:\", a ** b)"
      ]
    },
    {
      "cell_type": "code",
      "execution_count": null,
      "id": "9280bead",
      "metadata": {
        "execution": {
          "iopub.execute_input": "2025-09-25T16:23:32.852116Z",
          "iopub.status.busy": "2025-09-25T16:23:32.851670Z",
          "iopub.status.idle": "2025-09-25T16:23:32.858627Z",
          "shell.execute_reply": "2025-09-25T16:23:32.857345Z"
        },
        "id": "9280bead",
        "outputId": "af0323a5-8938-47a1-badf-c63169dc6bb9"
      },
      "outputs": [
        {
          "name": "stdout",
          "output_type": "stream",
          "text": [
            "x and y -> 0\n",
            "y and z -> \n",
            "x or y  -> 5\n",
            "not x   -> True\n",
            "not y   -> False\n"
          ]
        }
      ],
      "source": [
        "# 8) Demonstrate logical operators\n",
        "x, y, z = 0, 5, \"\"\n",
        "print(\"x and y ->\", x and y)      # 0 (x is falsy)\n",
        "print(\"y and z ->\", y and z)      # '' (z is falsy)\n",
        "print(\"x or y  ->\", x or y)       # 5 (y is truthy)\n",
        "print(\"not x   ->\", not x)        # True\n",
        "print(\"not y   ->\", not y)        # False"
      ]
    },
    {
      "cell_type": "code",
      "execution_count": null,
      "id": "ad175de1",
      "metadata": {
        "execution": {
          "iopub.execute_input": "2025-09-25T16:23:32.863728Z",
          "iopub.status.busy": "2025-09-25T16:23:32.863408Z",
          "iopub.status.idle": "2025-09-25T16:23:32.868634Z",
          "shell.execute_reply": "2025-09-25T16:23:32.867923Z"
        },
        "id": "ad175de1",
        "outputId": "cf7924e2-e79c-42c8-bd7e-51116aa1c481"
      },
      "outputs": [
        {
          "name": "stdout",
          "output_type": "stream",
          "text": [
            "int: 42\n",
            "float: 3.14\n",
            "bool from 'True': True\n"
          ]
        }
      ],
      "source": [
        "# 9) Convert user input from string to int, float, and boolean\n",
        "s_int, s_float, s_bool = \"42\", \"3.14\", \"True\"\n",
        "print(\"int:\", int(s_int))\n",
        "print(\"float:\", float(s_float))\n",
        "print(\"bool from 'True':\", bool(eval(s_bool)))  # safe here with fixed literal\n",
        "# Note: In real applications, avoid eval on untrusted input; parse explicitly."
      ]
    },
    {
      "cell_type": "code",
      "execution_count": null,
      "id": "bc6ddbb9",
      "metadata": {
        "execution": {
          "iopub.execute_input": "2025-09-25T16:23:32.872983Z",
          "iopub.status.busy": "2025-09-25T16:23:32.872689Z",
          "iopub.status.idle": "2025-09-25T16:23:32.878590Z",
          "shell.execute_reply": "2025-09-25T16:23:32.877767Z"
        },
        "id": "bc6ddbb9",
        "outputId": "054c1baf-fa49-4ba0-bfb2-288326cd2cb2"
      },
      "outputs": [
        {
          "name": "stdout",
          "output_type": "stream",
          "text": [
            "Original strings: ['10', '20', '30']\n",
            "As ints: [10, 20, 30]\n",
            "As floats: [10.0, 20.0, 30.0]\n",
            "To bools (non-empty strings -> True): [True, True, True]\n"
          ]
        }
      ],
      "source": [
        "# 10) Type casting with list elements\n",
        "nums = [\"10\", \"20\", \"30\"]\n",
        "ints = list(map(int, nums))\n",
        "print(\"Original strings:\", nums)\n",
        "print(\"As ints:\", ints)\n",
        "print(\"As floats:\", list(map(float, nums)))\n",
        "print(\"To bools (non-empty strings -> True):\", list(map(bool, nums)))"
      ]
    },
    {
      "cell_type": "code",
      "execution_count": null,
      "id": "badfc9d1",
      "metadata": {
        "execution": {
          "iopub.execute_input": "2025-09-25T16:23:32.882907Z",
          "iopub.status.busy": "2025-09-25T16:23:32.882584Z",
          "iopub.status.idle": "2025-09-25T16:23:32.947144Z",
          "shell.execute_reply": "2025-09-25T16:23:32.945683Z"
        },
        "id": "badfc9d1",
        "outputId": "bf99cddb-304e-41cd-b101-4bae08d141be"
      },
      "outputs": [
        {
          "name": "stdout",
          "output_type": "stream",
          "text": [
            "-7 is negative\n"
          ]
        }
      ],
      "source": [
        "# 11) Check if a number is positive, negative, or zero\n",
        "n = -7\n",
        "if n > 0:\n",
        "    msg = \"positive\"\n",
        "elif n < 0:\n",
        "    msg = \"negative\"\n",
        "else:\n",
        "    msg = \"zero\"\n",
        "print(f\"{n} is {msg}\")"
      ]
    },
    {
      "cell_type": "code",
      "execution_count": null,
      "id": "0b41902c",
      "metadata": {
        "execution": {
          "iopub.execute_input": "2025-09-25T16:23:32.952840Z",
          "iopub.status.busy": "2025-09-25T16:23:32.952414Z",
          "iopub.status.idle": "2025-09-25T16:23:32.958349Z",
          "shell.execute_reply": "2025-09-25T16:23:32.957315Z"
        },
        "id": "0b41902c",
        "outputId": "a8164805-8349-4399-aaf0-81c2e522692a"
      },
      "outputs": [
        {
          "name": "stdout",
          "output_type": "stream",
          "text": [
            "[1, 2, 3, 4, 5, 6, 7, 8, 9, 10]\n"
          ]
        }
      ],
      "source": [
        "# 12) Print numbers 1 to 10 using for loop\n",
        "print(list(range(1, 11)))"
      ]
    },
    {
      "cell_type": "code",
      "execution_count": null,
      "id": "59b62fec",
      "metadata": {
        "execution": {
          "iopub.execute_input": "2025-09-25T16:23:32.963666Z",
          "iopub.status.busy": "2025-09-25T16:23:32.963327Z",
          "iopub.status.idle": "2025-09-25T16:23:32.969129Z",
          "shell.execute_reply": "2025-09-25T16:23:32.968429Z"
        },
        "id": "59b62fec",
        "outputId": "be73baec-f64e-4f12-b9e6-8f87fe66cdcc"
      },
      "outputs": [
        {
          "name": "stdout",
          "output_type": "stream",
          "text": [
            "Evens: [2, 4, 6, 8, 10, 12, 14, 16, 18, 20, 22, 24, 26, 28, 30, 32, 34, 36, 38, 40, 42, 44, 46, 48, 50]\n",
            "Sum: 650\n"
          ]
        }
      ],
      "source": [
        "# 13) Sum of all even numbers between 1 and 50\n",
        "evens = [n for n in range(1, 51) if n % 2 == 0]\n",
        "print(\"Evens:\", evens)\n",
        "print(\"Sum:\", sum(evens))"
      ]
    },
    {
      "cell_type": "code",
      "execution_count": null,
      "id": "02915612",
      "metadata": {
        "execution": {
          "iopub.execute_input": "2025-09-25T16:23:32.974805Z",
          "iopub.status.busy": "2025-09-25T16:23:32.974369Z",
          "iopub.status.idle": "2025-09-25T16:23:32.980445Z",
          "shell.execute_reply": "2025-09-25T16:23:32.979660Z"
        },
        "id": "02915612",
        "outputId": "43e364a1-9747-4746-dc27-a915362a272b"
      },
      "outputs": [
        {
          "name": "stdout",
          "output_type": "stream",
          "text": [
            "Original: Python Basics\n",
            "Reversed: scisaB nohtyP\n"
          ]
        }
      ],
      "source": [
        "# 14) Reverse a string using a while loop\n",
        "s = \"Python Basics\"\n",
        "i = len(s) - 1\n",
        "rev = []\n",
        "while i >= 0:\n",
        "    rev.append(s[i])\n",
        "    i -= 1\n",
        "print(\"Original:\", s)\n",
        "print(\"Reversed:\", \"\".join(rev))"
      ]
    },
    {
      "cell_type": "code",
      "execution_count": null,
      "id": "b43b80a0",
      "metadata": {
        "execution": {
          "iopub.execute_input": "2025-09-25T16:23:32.984865Z",
          "iopub.status.busy": "2025-09-25T16:23:32.984463Z",
          "iopub.status.idle": "2025-09-25T16:23:33.046898Z",
          "shell.execute_reply": "2025-09-25T16:23:33.045476Z"
        },
        "id": "b43b80a0",
        "outputId": "b260e6a7-b19c-4b11-8e5b-a5e9a637eca5"
      },
      "outputs": [
        {
          "name": "stdout",
          "output_type": "stream",
          "text": [
            "6! = 720\n"
          ]
        }
      ],
      "source": [
        "# 15) Factorial using a while loop\n",
        "num = 6\n",
        "fact, k = 1, 1\n",
        "while k <= num:\n",
        "    fact *= k\n",
        "    k += 1\n",
        "print(f\"{num}! =\", fact)"
      ]
    }
  ],
  "metadata": {
    "language_info": {
      "codemirror_mode": {
        "name": "ipython",
        "version": 3
      },
      "file_extension": ".py",
      "mimetype": "text/x-python",
      "name": "python",
      "nbconvert_exporter": "python",
      "pygments_lexer": "ipython3",
      "version": "3.11.8"
    },
    "colab": {
      "provenance": []
    }
  },
  "nbformat": 4,
  "nbformat_minor": 5
}