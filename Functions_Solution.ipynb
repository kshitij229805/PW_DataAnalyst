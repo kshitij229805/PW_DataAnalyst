{
  "cells": [
    {
      "cell_type": "markdown",
      "id": "cbe421d1",
      "metadata": {
        "id": "cbe421d1"
      },
      "source": [
        "# **Functions — Assignment Solution Notebook**  \n",
        "\n",
        "\n",
        "**Presentation rules followed:**  \n",
        "- Questions and answers are **numbered exactly** as in the assignment.  \n",
        "  \n",
        "- Theory answers are **detailed**, with **examples** and **real‑life scenarios** where possible.  \n",
        "- All code outputs are **displayed** under their cells.  \n"
      ]
    },
    {
      "cell_type": "markdown",
      "id": "80f2d48f",
      "metadata": {
        "id": "80f2d48f"
      },
      "source": [
        "## **Theory Questions**  \n"
      ]
    },
    {
      "cell_type": "markdown",
      "id": "9d5b03e6",
      "metadata": {
        "id": "9d5b03e6"
      },
      "source": [
        "\n",
        "### **1. What is the difference between a function and a method in Python?**\n",
        "**Answer:**  \n",
        "- A **function** is a reusable block of code defined with `def` (or `lambda`) that is **not** inherently bound to an object. It can be called independently: `f(x)`.\n",
        "- A **method** is a function that is **bound to an object** (i.e., defined inside a class). It is invoked via an instance (or class) using dot notation and implicitly receives the instance (or class) as the first parameter (commonly `self` or `cls`).\n",
        "\n",
        "**Example:**  \n",
        "```python\n",
        "# Function\n",
        "def add(a, b):\n",
        "    return a + b\n",
        "\n",
        "# Method\n",
        "class Accumulator:\n",
        "    def __init__(self, start=0):\n",
        "        self.total = start\n",
        "    def add(self, x):\n",
        "        self.total += x\n",
        "        return self.total\n",
        "\n",
        "print(add(2, 3))  # 5\n",
        "acc = Accumulator()\n",
        "print(acc.add(10))  # 10\n",
        "```\n",
        "\n",
        "**Real-life analogy:**  \n",
        "- A **function** is like a public calculator on a table—anyone can walk up and use it.\n",
        "- A **method** is a calculator attached to a specific worker’s desk; using it inherently involves that worker (the object’s state).\n"
      ]
    },
    {
      "cell_type": "markdown",
      "id": "8a6ddabb",
      "metadata": {
        "id": "8a6ddabb"
      },
      "source": [
        "\n",
        "### **2. Explain the concept of function arguments and parameters in Python.**\n",
        "**Answer:**  \n",
        "- **Parameters** are the variable names in a function definition (`def f(x, y=0, *args, **kwargs): ...`).  \n",
        "- **Arguments** are the actual values passed to the function when you call it (`f(10, y=5)`).\n",
        "\n",
        "**Kinds of parameters/arguments:**  \n",
        "1. **Positional**: matched by position.  \n",
        "2. **Keyword**: matched by name (e.g., `f(y=5, x=1)`).  \n",
        "3. **Default**: parameters with default values (e.g., `y=0`).  \n",
        "4. **Variadic positional**: `*args` collects extra positional arguments into a tuple.  \n",
        "5. **Variadic keyword**: `**kwargs` collects extra keyword arguments into a dict.  \n",
        "6. **Pos-only / Kw-only** (Python 3.8+): enforce calling style using `/` and `*` in the signature.\n",
        "\n",
        "**Example:**  \n",
        "```python\n",
        "def invoice(amount, tax=0.18, /, *, currency=\"INR\", **meta):\n",
        "    return {\"total\": amount * (1 + tax), \"currency\": currency, \"meta\": meta}\n",
        "\n",
        "print(invoice(1000, currency=\"INR\", note=\"books\"))\n",
        "```\n"
      ]
    },
    {
      "cell_type": "markdown",
      "id": "26a92a4e",
      "metadata": {
        "id": "26a92a4e"
      },
      "source": [
        "\n",
        "### **3. What are the different ways to define and call a function in Python?**\n",
        "**Answer:**  \n",
        "- **Standard definition** with `def` and call by `f(args...)`  \n",
        "- **Anonymous (lambda) functions**: `lambda x: x * x`  \n",
        "- **Callable classes** using `__call__`  \n",
        "- **Partial application** (via `functools.partial`) to freeze some arguments  \n",
        "- **Higher-order functions** (passing functions as args/returning functions)\n",
        "\n",
        "**Examples:**  \n",
        "```python\n",
        "def square(x): return x*x                  # def\n",
        "cube = lambda x: x*x*x                     # lambda\n",
        "class Doubler:                             # callable class\n",
        "    def __call__(self, x): return 2*x\n",
        "from functools import partial\n",
        "pow10 = partial(pow, 10)                   # partial\n",
        "\n",
        "print(square(4), cube(3), Doubler()(5), pow10(2))\n",
        "```\n"
      ]
    },
    {
      "cell_type": "markdown",
      "id": "720fb74d",
      "metadata": {
        "id": "720fb74d"
      },
      "source": [
        "\n",
        "### **4. What is the purpose of the `return` statement in a Python function?**\n",
        "**Answer:**  \n",
        "`return` ends function execution and **sends a value** back to the caller. Without a `return`, the function returns `None`. A `return` can also return **multiple values** (actually a tuple).\n",
        "\n",
        "**Example:**  \n",
        "```python\n",
        "def stats(a, b):\n",
        "    s = a + b\n",
        "    p = a * b\n",
        "    return s, p\n",
        "\n",
        "sum_ab, prod_ab = stats(3, 4)  # tuple unpacking\n",
        "```\n"
      ]
    },
    {
      "cell_type": "markdown",
      "id": "b7f02432",
      "metadata": {
        "id": "b7f02432"
      },
      "source": [
        "\n",
        "### **5. What are iterators in Python and how do they differ from iterables?**\n",
        "**Answer:**  \n",
        "- An **iterable** is any object you can loop over (e.g., list, tuple, dict, set, strings). It provides an iterator via `iter(x)`.\n",
        "- An **iterator** is an object with `__iter__()` and `__next__()` that **remembers state** and yields items one by one until `StopIteration`.\n",
        "\n",
        "**Example:**  \n",
        "```python\n",
        "items = [1, 2, 3]      # iterable\n",
        "it = iter(items)       # iterator\n",
        "print(next(it))        # 1\n",
        "print(next(it))        # 2\n",
        "print(next(it))        # 3\n",
        "```\n",
        "**Real-life analogy:**  \n",
        "- Iterable = **recipe book**; Iterator = **you reading page-by-page with a bookmark**.\n"
      ]
    },
    {
      "cell_type": "markdown",
      "id": "fad73638",
      "metadata": {
        "id": "fad73638"
      },
      "source": [
        "\n",
        "### **6. Explain the concept of generators in Python and how they are defined.**\n",
        "**Answer:**  \n",
        "Generators are **lazy iterators** defined with the `yield` keyword (or generator expressions). They produce values **on demand**, saving memory.\n",
        "\n",
        "**Example:**  \n",
        "```python\n",
        "def countdown(n):\n",
        "    while n > 0:\n",
        "        yield n\n",
        "        n -= 1\n",
        "\n",
        "for x in countdown(3):\n",
        "    print(x)\n",
        "```\n"
      ]
    },
    {
      "cell_type": "markdown",
      "id": "b1e94b87",
      "metadata": {
        "id": "b1e94b87"
      },
      "source": [
        "\n",
        "### **7. What are the advantages of using generators over regular functions?**\n",
        "**Answer:**  \n",
        "- **Memory efficient**: produce items on the fly.  \n",
        "- **Faster start-up** for large/streaming data.  \n",
        "- **Pipeline-friendly**: chain transformations.  \n",
        "- **Composability**: easy to build data-processing pipelines.\n",
        "\n",
        "**Real-life scenario:**  \n",
        "Reading a **huge log file** line-by-line using a generator prevents loading the entire file into RAM.\n"
      ]
    },
    {
      "cell_type": "markdown",
      "id": "e5d814f7",
      "metadata": {
        "id": "e5d814f7"
      },
      "source": [
        "\n",
        "### **8. What is a lambda function in Python and when is it typically used?**\n",
        "**Answer:**  \n",
        "A **lambda** is a small anonymous function defined inline: `lambda args: expression`.  \n",
        "Use it for **short, throwaway** functions—especially with `map`, `filter`, `sorted`, or GUI callbacks.\n",
        "\n",
        "**Example:**  \n",
        "```python\n",
        "nums = [5, 1, 4, 2]\n",
        "print(sorted(nums, key=lambda x: -x))  # sort descending\n",
        "```\n"
      ]
    },
    {
      "cell_type": "markdown",
      "id": "e2518312",
      "metadata": {
        "id": "e2518312"
      },
      "source": [
        "\n",
        "### **9. Explain the purpose and usage of the `map()` function in Python.**\n",
        "**Answer:**  \n",
        "`map(func, iterable, ...)` applies `func` to each item of the iterable(s), returning a **lazy map object** (iterator). Convert to list if you need materialized results.\n",
        "\n",
        "**Example:** Convert item prices from INR to USD (hypothetical rate 1 USD = 83 INR):  \n",
        "```python\n",
        "inr = [83, 166, 249]\n",
        "usd = list(map(lambda r: round(r/83, 2), inr))\n",
        "print(usd)  # [1.0, 2.0, 3.0]\n",
        "```\n"
      ]
    },
    {
      "cell_type": "markdown",
      "id": "572b1813",
      "metadata": {
        "id": "572b1813"
      },
      "source": [
        "\n",
        "### **10. What is the difference between `map()`, `reduce()`, and `filter()` functions in Python?**\n",
        "**Answer (summary + table):**  \n",
        "- **map**: transforms each element → same length as input.  \n",
        "- **filter**: keeps elements that satisfy a predicate → length ≤ input.  \n",
        "- **reduce**: aggregates all elements into a **single** value.\n",
        "\n",
        "| Function | Input            | Function Type     | Output                    | Typical Use                         |\n",
        "|---------:|------------------|-------------------|---------------------------|-------------------------------------|\n",
        "| `map`    | iterable(s)      | transformer       | iterator (same length)    | apply a function element‑wise       |\n",
        "| `filter` | iterable         | predicate (bool)  | iterator (subset)         | keep items meeting a condition      |\n",
        "| `reduce` | iterable         | combiner (a,b)    | single value              | fold/accumulate to one result       |\n",
        "\n",
        "**Note:** The assignment asks to *attach a paper image*. In a notebook, a neat table and examples like above serve the same purpose. If you still need a handwritten scan, insert an image cell later.\n"
      ]
    },
    {
      "cell_type": "markdown",
      "id": "a148b7de",
      "metadata": {
        "id": "a148b7de"
      },
      "source": [
        "\n",
        "### **11. Using pen & paper write the internal mechanism for sum operation using `reduce` on list `[47, 11, 42, 13]`.**\n",
        "**Answer (worked example):**  \n",
        "`reduce` repeatedly applies a binary function `f(acc, x)` accumulating a single result.\n",
        "\n",
        "Let `f(a,b)=a+b` and start with the first two numbers:\n",
        "\n",
        "1. Step 1: `acc = f(47, 11) = 58`  \n",
        "2. Step 2: `acc = f(58, 42) = 100`  \n",
        "3. Step 3: `acc = f(100, 13) = 113`  \n",
        "\n",
        "**Final sum = 113**.  \n",
        "Pythonically: `from functools import reduce; reduce(lambda a,b: a+b, [47,11,42,13]) -> 113`.\n"
      ]
    },
    {
      "cell_type": "markdown",
      "id": "fa5bfc11",
      "metadata": {
        "id": "fa5bfc11"
      },
      "source": [
        "## **Practical Questions**"
      ]
    },
    {
      "cell_type": "code",
      "execution_count": null,
      "id": "cbc5df86",
      "metadata": {
        "execution": {
          "iopub.execute_input": "2025-09-25T16:05:38.394295Z",
          "iopub.status.busy": "2025-09-25T16:05:38.393850Z",
          "iopub.status.idle": "2025-09-25T16:05:38.406322Z",
          "shell.execute_reply": "2025-09-25T16:05:38.405259Z"
        },
        "id": "cbc5df86",
        "outputId": "dd8605d0-505f-4409-a0c7-f082ebab8cf1"
      },
      "outputs": [
        {
          "name": "stdout",
          "output_type": "stream",
          "text": [
            "Input: [1, 2, 3, 4, 5, 6, 8, 11]\n",
            "Sum of evens: 20\n"
          ]
        }
      ],
      "source": [
        "\n",
        "# 1) Sum of even numbers in a list\n",
        "def sum_of_evens(nums):\n",
        "    return sum(x for x in nums if x % 2 == 0)\n",
        "\n",
        "# Demo\n",
        "demo = [1,2,3,4,5,6,8,11]\n",
        "print(\"Input:\", demo)\n",
        "print(\"Sum of evens:\", sum_of_evens(demo))\n"
      ]
    },
    {
      "cell_type": "code",
      "execution_count": null,
      "id": "415e62f9",
      "metadata": {
        "execution": {
          "iopub.execute_input": "2025-09-25T16:05:38.412319Z",
          "iopub.status.busy": "2025-09-25T16:05:38.411917Z",
          "iopub.status.idle": "2025-09-25T16:05:38.418519Z",
          "shell.execute_reply": "2025-09-25T16:05:38.416994Z"
        },
        "id": "415e62f9",
        "outputId": "e4da327a-d1b6-47df-a857-fc821c63c898"
      },
      "outputs": [
        {
          "name": "stdout",
          "output_type": "stream",
          "text": [
            "Reverse('Functions'): snoitcnuF\n"
          ]
        }
      ],
      "source": [
        "\n",
        "# 2) Reverse a string\n",
        "def reverse_string(s):\n",
        "    return s[::-1]\n",
        "\n",
        "print(\"Reverse('Functions'):\", reverse_string(\"Functions\"))\n"
      ]
    },
    {
      "cell_type": "code",
      "execution_count": null,
      "id": "15f2304d",
      "metadata": {
        "execution": {
          "iopub.execute_input": "2025-09-25T16:05:38.424321Z",
          "iopub.status.busy": "2025-09-25T16:05:38.423932Z",
          "iopub.status.idle": "2025-09-25T16:05:38.448171Z",
          "shell.execute_reply": "2025-09-25T16:05:38.446333Z"
        },
        "id": "15f2304d",
        "outputId": "0e6be7e4-e7b7-4059-e22c-a061ca825e2e"
      },
      "outputs": [
        {
          "name": "stdout",
          "output_type": "stream",
          "text": [
            "Squares: [1, 4, 9, 16, 25]\n"
          ]
        }
      ],
      "source": [
        "\n",
        "# 3) Squares of each number\n",
        "def squares(nums):\n",
        "    return [x*x for x in nums]\n",
        "\n",
        "print(\"Squares:\", squares([1,2,3,4,5]))\n"
      ]
    },
    {
      "cell_type": "code",
      "execution_count": null,
      "id": "fbc3c88d",
      "metadata": {
        "execution": {
          "iopub.execute_input": "2025-09-25T16:05:38.455761Z",
          "iopub.status.busy": "2025-09-25T16:05:38.454769Z",
          "iopub.status.idle": "2025-09-25T16:05:38.463781Z",
          "shell.execute_reply": "2025-09-25T16:05:38.462826Z"
        },
        "id": "fbc3c88d",
        "outputId": "03f2a565-6d67-477d-8772-8617c380d484"
      },
      "outputs": [
        {
          "name": "stdout",
          "output_type": "stream",
          "text": [
            "Primes between 1 and 200: [2, 3, 5, 7, 11, 13, 17, 19, 23, 29, 31, 37, 41, 43, 47, 53, 59, 61, 67, 71, 73, 79, 83, 89, 97, 101, 103, 107, 109, 113, 127, 131, 137, 139, 149, 151, 157, 163, 167, 173, 179, 181, 191, 193, 197, 199]\n"
          ]
        }
      ],
      "source": [
        "\n",
        "# 4) Check primes from 1 to 200\n",
        "def is_prime(n):\n",
        "    if n < 2: return False\n",
        "    if n in (2,3): return True\n",
        "    if n % 2 == 0: return False\n",
        "    i = 3\n",
        "    while i*i <= n:\n",
        "        if n % i == 0: return False\n",
        "        i += 2\n",
        "    return True\n",
        "\n",
        "primes_1_to_200 = [n for n in range(1,201) if is_prime(n)]\n",
        "print(\"Primes between 1 and 200:\", primes_1_to_200)\n"
      ]
    },
    {
      "cell_type": "code",
      "execution_count": null,
      "id": "516fdc95",
      "metadata": {
        "execution": {
          "iopub.execute_input": "2025-09-25T16:05:38.471013Z",
          "iopub.status.busy": "2025-09-25T16:05:38.470419Z",
          "iopub.status.idle": "2025-09-25T16:05:38.478967Z",
          "shell.execute_reply": "2025-09-25T16:05:38.478183Z"
        },
        "id": "516fdc95",
        "outputId": "44f1d455-6b1a-47b7-df29-71c26894e202"
      },
      "outputs": [
        {
          "name": "stdout",
          "output_type": "stream",
          "text": [
            "First 10 Fibonacci numbers: [0, 1, 1, 2, 3, 5, 8, 13, 21, 34]\n"
          ]
        }
      ],
      "source": [
        "\n",
        "# 5) Iterator class for Fibonacci sequence up to 'terms'\n",
        "class Fibonacci:\n",
        "    def __init__(self, terms):\n",
        "        self.terms = terms\n",
        "        self.a, self.b = 0, 1\n",
        "        self.count = 0\n",
        "    def __iter__(self):\n",
        "        return self\n",
        "    def __next__(self):\n",
        "        if self.count >= self.terms:\n",
        "            raise StopIteration\n",
        "        if self.count == 0:\n",
        "            self.count += 1\n",
        "            return 0\n",
        "        elif self.count == 1:\n",
        "            self.count += 1\n",
        "            return 1\n",
        "        else:\n",
        "            self.a, self.b = self.b, self.a + self.b\n",
        "            self.count += 1\n",
        "            return self.b\n",
        "\n",
        "print(\"First 10 Fibonacci numbers:\", list(Fibonacci(10)))\n"
      ]
    },
    {
      "cell_type": "code",
      "execution_count": null,
      "id": "b9c24f21",
      "metadata": {
        "execution": {
          "iopub.execute_input": "2025-09-25T16:05:38.484442Z",
          "iopub.status.busy": "2025-09-25T16:05:38.484078Z",
          "iopub.status.idle": "2025-09-25T16:05:38.546899Z",
          "shell.execute_reply": "2025-09-25T16:05:38.545231Z"
        },
        "id": "b9c24f21",
        "outputId": "b48084c8-7e75-48e8-de71-358f04fb7756"
      },
      "outputs": [
        {
          "name": "stdout",
          "output_type": "stream",
          "text": [
            "Powers of 2 up to 2^8: [1, 2, 4, 8, 16, 32, 64, 128, 256]\n"
          ]
        }
      ],
      "source": [
        "\n",
        "# 6) Generator yielding powers of 2 up to exponent 'n' (inclusive)\n",
        "def powers_of_two(n):\n",
        "    for e in range(n+1):\n",
        "        yield 2**e\n",
        "\n",
        "print(\"Powers of 2 up to 2^8:\", list(powers_of_two(8)))\n"
      ]
    },
    {
      "cell_type": "code",
      "execution_count": null,
      "id": "eaf97e00",
      "metadata": {
        "execution": {
          "iopub.execute_input": "2025-09-25T16:05:38.552605Z",
          "iopub.status.busy": "2025-09-25T16:05:38.552067Z",
          "iopub.status.idle": "2025-09-25T16:05:38.562078Z",
          "shell.execute_reply": "2025-09-25T16:05:38.560245Z"
        },
        "id": "eaf97e00",
        "outputId": "7dc8069f-8c5e-4fd7-fcd5-0f8083cf8189"
      },
      "outputs": [
        {
          "name": "stdout",
          "output_type": "stream",
          "text": [
            "Reading lines from: '/mnt/data/sample_lines.txt'\n",
            "alpha\n",
            "beta\n",
            "gamma\n",
            "delta\n"
          ]
        }
      ],
      "source": [
        "\n",
        "# 7) Generator to read a file line by line\n",
        "def read_lines(filepath):\n",
        "    with open(filepath, \"r\", encoding=\"utf-8\") as f:\n",
        "        for line in f:\n",
        "            yield line.rstrip(\"\\n\")\n",
        "\n",
        "print(\"Reading lines from: '/mnt/data/sample_lines.txt'\")\n",
        "for ln in read_lines(\"/mnt/data/sample_lines.txt\"):\n",
        "    print(ln)\n"
      ]
    },
    {
      "cell_type": "code",
      "execution_count": null,
      "id": "9edf0c69",
      "metadata": {
        "execution": {
          "iopub.execute_input": "2025-09-25T16:05:38.567548Z",
          "iopub.status.busy": "2025-09-25T16:05:38.566769Z",
          "iopub.status.idle": "2025-09-25T16:05:38.574567Z",
          "shell.execute_reply": "2025-09-25T16:05:38.573542Z"
        },
        "id": "9edf0c69",
        "outputId": "7a6350ba-5c77-4d51-ab4a-0e19f939da33"
      },
      "outputs": [
        {
          "name": "stdout",
          "output_type": "stream",
          "text": [
            "Original: [('apples', 5), ('bananas', 2), ('oranges', 3), ('mangoes', 1)]\n",
            "Sorted by second element: [('mangoes', 1), ('bananas', 2), ('oranges', 3), ('apples', 5)]\n"
          ]
        }
      ],
      "source": [
        "\n",
        "# 8) Sort list of tuples by second element using lambda\n",
        "pairs = [(\"apples\", 5), (\"bananas\", 2), (\"oranges\", 3), (\"mangoes\", 1)]\n",
        "sorted_pairs = sorted(pairs, key=lambda t: t[1])\n",
        "print(\"Original:\", pairs)\n",
        "print(\"Sorted by second element:\", sorted_pairs)\n"
      ]
    },
    {
      "cell_type": "code",
      "execution_count": null,
      "id": "32c705bd",
      "metadata": {
        "execution": {
          "iopub.execute_input": "2025-09-25T16:05:38.579708Z",
          "iopub.status.busy": "2025-09-25T16:05:38.579278Z",
          "iopub.status.idle": "2025-09-25T16:05:38.585817Z",
          "shell.execute_reply": "2025-09-25T16:05:38.584885Z"
        },
        "id": "32c705bd",
        "outputId": "ef43580e-92b0-4c84-d511-7829ad06451d"
      },
      "outputs": [
        {
          "name": "stdout",
          "output_type": "stream",
          "text": [
            "Celsius: [-10, 0, 20, 37, 100]\n",
            "Fahrenheit: [14.0, 32.0, 68.0, 98.60000000000001, 212.0]\n"
          ]
        }
      ],
      "source": [
        "\n",
        "# 9) map(): Celsius to Fahrenheit\n",
        "# F = C*(9/5)+32\n",
        "celsius = [-10, 0, 20, 37, 100]\n",
        "fahrenheit = list(map(lambda c: c*(9/5)+32, celsius))\n",
        "print(\"Celsius:\", celsius)\n",
        "print(\"Fahrenheit:\", fahrenheit)\n"
      ]
    },
    {
      "cell_type": "code",
      "execution_count": null,
      "id": "99698b22",
      "metadata": {
        "execution": {
          "iopub.execute_input": "2025-09-25T16:05:38.649693Z",
          "iopub.status.busy": "2025-09-25T16:05:38.649196Z",
          "iopub.status.idle": "2025-09-25T16:05:38.655836Z",
          "shell.execute_reply": "2025-09-25T16:05:38.654978Z"
        },
        "id": "99698b22",
        "outputId": "fca815c9-d9d8-4c73-851f-10f903ad037d"
      },
      "outputs": [
        {
          "name": "stdout",
          "output_type": "stream",
          "text": [
            "Original: Functional Programming in Python\n",
            "Without vowels: Fnctnl Prgrmmng n Pythn\n"
          ]
        }
      ],
      "source": [
        "\n",
        "# 10) filter(): remove all vowels from a given string\n",
        "def remove_vowels(s):\n",
        "    vowels = set(\"aeiouAEIOU\")\n",
        "    return \"\".join(filter(lambda ch: ch not in vowels, s))\n",
        "\n",
        "test = \"Functional Programming in Python\"\n",
        "print(\"Original:\", test)\n",
        "print(\"Without vowels:\", remove_vowels(test))\n"
      ]
    },
    {
      "cell_type": "code",
      "execution_count": null,
      "id": "8bdbde56",
      "metadata": {
        "execution": {
          "iopub.execute_input": "2025-09-25T16:05:38.660397Z",
          "iopub.status.busy": "2025-09-25T16:05:38.660049Z",
          "iopub.status.idle": "2025-09-25T16:05:38.669630Z",
          "shell.execute_reply": "2025-09-25T16:05:38.668096Z"
        },
        "id": "8bdbde56",
        "outputId": "0c2186b8-0dd3-44d0-b46d-fbcdb8f36318"
      },
      "outputs": [
        {
          "name": "stdout",
          "output_type": "stream",
          "text": [
            "Order totals with handling fee rule: [(34587, 29.8), (98762, 39.75), (77226, 48.97), (88112, 34.989999999999995)]\n"
          ]
        }
      ],
      "source": [
        "\n",
        "# 11) Accounting routine\n",
        "# Each order: [order_no, price_per_item, quantity]\n",
        "orders = [\n",
        "    [34587, 4.95, 4],\n",
        "    [98762, 5.95, 5],\n",
        "    [77226, 12.99, 3],\n",
        "    [88112, 24.99, 1],\n",
        "]\n",
        "\n",
        "# product = price * qty; add 10 if product < 100\n",
        "compute_tuple = lambda order: (\n",
        "    order[0],\n",
        "    (order[1] * order[2]) if (order[1] * order[2]) >= 100 else (order[1] * order[2] + 10)\n",
        ")\n",
        "\n",
        "results = list(map(compute_tuple, orders))\n",
        "print(\"Order totals with handling fee rule:\", results)\n"
      ]
    }
  ],
  "metadata": {
    "language_info": {
      "codemirror_mode": {
        "name": "ipython",
        "version": 3
      },
      "file_extension": ".py",
      "mimetype": "text/x-python",
      "name": "python",
      "nbconvert_exporter": "python",
      "pygments_lexer": "ipython3",
      "version": "3.11.8"
    },
    "colab": {
      "provenance": []
    }
  },
  "nbformat": 4,
  "nbformat_minor": 5
}