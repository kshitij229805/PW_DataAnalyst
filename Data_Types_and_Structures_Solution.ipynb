{
  "cells": [
    {
      "cell_type": "markdown",
      "id": "2332b2ef",
      "metadata": {
        "id": "2332b2ef"
      },
      "source": [
        "# Data Types and Structures — Assignment Notebook\n",
        "\n",
        "**Note:** This notebook keeps the question wording and order from assignment handout.  \n",
        "All theory answers are detailed and include examples (with real-life scenarios where meaningful).  \n",
        "All practical questions (numbered **1–30** exactly as in the assignment) include code **and** displayed outputs.\n",
        "\n",
        "---"
      ]
    },
    {
      "cell_type": "markdown",
      "id": "85d80441",
      "metadata": {
        "id": "85d80441"
      },
      "source": [
        "## Theory Questions and Answers"
      ]
    },
    {
      "cell_type": "markdown",
      "id": "1a66f8ae",
      "metadata": {
        "id": "1a66f8ae"
      },
      "source": [
        "### 1) What are data structures, and why are they important?\n",
        "\n",
        "**Answer:**  \n",
        "A **data structure** is a way of organizing and storing data so it can be accessed and modified efficiently.  \n",
        "They are important because the right structure makes programs **faster** (time complexity), use **less memory** (space complexity), and **easier to maintain**.\n",
        "\n",
        "**Examples (real-life):**\n",
        "- **Stack:** Like a stack of plates—last plate placed is the first removed (LIFO).  \n",
        "- **Queue:** Like a ticket line—first person in is first out (FIFO).  \n",
        "- **Dictionary/Hash map:** Like a phone book—quickly find a number given a name."
      ]
    },
    {
      "cell_type": "markdown",
      "id": "ffe9d033",
      "metadata": {
        "id": "ffe9d033"
      },
      "source": [
        "### 2) Explain the difference between mutable and immutable data types with examples.\n",
        "\n",
        "**Answer:**  \n",
        "- **Mutable types** can be changed *in place* after creation. Examples: `list`, `dict`, `set`.  \n",
        "  ```python\n",
        "  a = [1, 2]\n",
        "  a.append(3)   # modifies the same list\n",
        "  ```\n",
        "- **Immutable types** cannot be changed after creation; any “change” creates a new object. Examples: `int`, `float`, `str`, `tuple`.  \n",
        "  ```python\n",
        "  s = \"hi\"\n",
        "  s = s + \"!\"  # creates a new string object\n",
        "  ```\n",
        "\n",
        "**Real-life analogy:** A mutable whiteboard (you can erase and rewrite) versus an immutable printed receipt (cannot be altered)."
      ]
    },
    {
      "cell_type": "markdown",
      "id": "80a976d0",
      "metadata": {
        "id": "80a976d0"
      },
      "source": [
        "### 3) What are the main differences between lists and tuples in Python?\n",
        "\n",
        "**Answer:**  \n",
        "- **List:** Mutable, typically homogeneous but can hold mixed types, supports frequent insertion/deletion and reordering.  \n",
        "- **Tuple:** Immutable, often used for **fixed** collections or records.\n",
        "\n",
        "**When to choose what:**  \n",
        "- Use **list** when you need to **modify** items.  \n",
        "- Use **tuple** when the collection should be **read-only** (e.g., geographic coordinates `(lat, lon)`)."
      ]
    },
    {
      "cell_type": "markdown",
      "id": "74735303",
      "metadata": {
        "id": "74735303"
      },
      "source": [
        "### 4) Describe how dictionaries store data.\n",
        "\n",
        "**Answer:**  \n",
        "A Python **dictionary** stores data as key–value pairs using a **hash table** under the hood.  \n",
        "- Keys are hashed to compute a slot (bucket index).  \n",
        "- Values are stored alongside their keys.  \n",
        "- Average **O(1)** lookup by key."
      ]
    },
    {
      "cell_type": "markdown",
      "id": "c952e8ee",
      "metadata": {
        "id": "c952e8ee"
      },
      "source": [
        "### 5) Why might you use a set instead of a list in Python?\n",
        "\n",
        "**Answer:**  \n",
        "Use a **set** for uniqueness and fast membership tests:  \n",
        "- Automatically **removes duplicates**.  \n",
        "- Average **O(1)** membership test with `in`.  \n",
        "- Useful when you need to keep **unique IDs**, **unique emails**, etc."
      ]
    },
    {
      "cell_type": "markdown",
      "id": "6ad91cc3",
      "metadata": {
        "id": "6ad91cc3"
      },
      "source": [
        "### 6) What is a string in Python, and how is it different from a list?\n",
        "\n",
        "**Answer:**  \n",
        "A **string** is an **immutable** sequence of Unicode characters. A **list** is a **mutable** sequence of objects.  \n",
        "- Strings: characters only, immutable.  \n",
        "- Lists: can hold any Python objects, mutable.\n",
        "\n",
        "**Example:**  \n",
        "```python\n",
        "s = \"data\"\n",
        "# s[0] = 'D'  # Error: strings are immutable\n",
        "lst = ['d', 'a', 't', 'a']\n",
        "lst[0] = 'D'  # OK\n",
        "```"
      ]
    },
    {
      "cell_type": "markdown",
      "id": "0d80c403",
      "metadata": {
        "id": "0d80c403"
      },
      "source": [
        "### 7) How do tuples ensure data integrity in Python?\n",
        "\n",
        "**Answer:**  \n",
        "Because tuples are **immutable**, their content cannot be altered once created. This immutability helps ensure **data integrity**, especially when passing data into functions or using as **dict keys** (provided all elements are hashable)."
      ]
    },
    {
      "cell_type": "markdown",
      "id": "b5905aa3",
      "metadata": {
        "id": "b5905aa3"
      },
      "source": [
        "### 8) What is a hash table, and how does it relate to dictionaries in Python?\n",
        "\n",
        "**Answer:**  \n",
        "A **hash table** maps keys to values via a **hash function** → **bucket index**.  \n",
        "Python dictionaries are **hash-table–backed** maps, giving average **O(1)** insert/lookup/delete by key."
      ]
    },
    {
      "cell_type": "markdown",
      "id": "88ba3650",
      "metadata": {
        "id": "88ba3650"
      },
      "source": [
        "### 9) Can lists contain different data types in Python?\n",
        "\n",
        "**Answer:**  \n",
        "Yes. Lists can hold **heterogeneous** data:  \n",
        "```python\n",
        "mixed = [42, \"hello\", 3.14, {\"k\": \"v\"}, (1,2)]\n",
        "```\n",
        "This flexibility is often convenient for small tasks or prototyping."
      ]
    },
    {
      "cell_type": "markdown",
      "id": "0c8d9f6c",
      "metadata": {
        "id": "0c8d9f6c"
      },
      "source": [
        "### 10) Explain why strings are immutable in Python.\n",
        "\n",
        "**Answer:**  \n",
        "Strings are immutable for **safety** (no accidental sharing bugs), **hashability** (usable as dict keys), and **performance** (enables interning/optimizations). Any “change” creates a **new** string."
      ]
    },
    {
      "cell_type": "markdown",
      "id": "ba8530bf",
      "metadata": {
        "id": "ba8530bf"
      },
      "source": [
        "### 11) What advantages do dictionaries offer over lists for certain tasks?\n",
        "\n",
        "**Answer:**  \n",
        "Dictionaries provide **direct access by key** (average O(1)), making them ideal when you have **named fields** or **ID lookups**. Lists require scanning by position or value (often O(n))."
      ]
    },
    {
      "cell_type": "markdown",
      "id": "594b9be0",
      "metadata": {
        "id": "594b9be0"
      },
      "source": [
        "### 12) Describe a scenario where using a tuple would be preferable over a list.\n",
        "\n",
        "**Answer (scenario):**  \n",
        "Use a **tuple** for **fixed records** that shouldn’t change, e.g., `(latitude, longitude)`, `(day, month, year)`, or **RGB color** `(255, 128, 0)`. The immutability conveys **intent** and prevents accidental edits."
      ]
    },
    {
      "cell_type": "markdown",
      "id": "0d7313d3",
      "metadata": {
        "id": "0d7313d3"
      },
      "source": [
        "### 13) How do sets handle duplicate values in Python?\n",
        "\n",
        "**Answer:**  \n",
        "Sets enforce **uniqueness** automatically. Inserting a duplicate value has **no effect**:  \n",
        "```python\n",
        "s = {1, 1, 2}\n",
        "# s is {1, 2}\n",
        "```"
      ]
    },
    {
      "cell_type": "markdown",
      "id": "95b94071",
      "metadata": {
        "id": "95b94071"
      },
      "source": [
        "### 14) How does the “in” keyword work differently for lists and dictionaries?\n",
        "\n",
        "**Answer:**  \n",
        "- For a **list**, `x in list` scans items **linearly** (O(n)).  \n",
        "- For a **dictionary**, `k in dict` checks **keys** using hash lookup (average O(1)); it does **not** search values unless you explicitly check `x in dict.values()`."
      ]
    },
    {
      "cell_type": "markdown",
      "id": "276ba99c",
      "metadata": {
        "id": "276ba99c"
      },
      "source": [
        "### 15) Can you modify the elements of a tuple? Explain why or why not.\n",
        "\n",
        "**Answer:**  \n",
        "No—tuples are **immutable**. You cannot change or assign to `t[i]`. If you need modifications, create a **new** tuple or use a **list** instead."
      ]
    },
    {
      "cell_type": "markdown",
      "id": "60655732",
      "metadata": {
        "id": "60655732"
      },
      "source": [
        "### 16) What is a nested dictionary, and give an example of its use case.\n",
        "\n",
        "**Answer:**  \n",
        "A **nested dictionary** is a dict whose values are themselves dictionaries.  \n",
        "**Use case:** Hierarchical data—e.g., students by ID, each with profile info.\n",
        "```python\n",
        "students = {\n",
        "    \"S101\": {\"name\": \"Asha\", \"age\": 20, \"dept\": \"CSE\"},\n",
        "    \"S102\": {\"name\": \"Rahul\", \"age\": 21, \"dept\": \"ECE\"},\n",
        "}\n",
        "```"
      ]
    },
    {
      "cell_type": "markdown",
      "id": "f876572e",
      "metadata": {
        "id": "f876572e"
      },
      "source": [
        "### 17) Describe the time complexity of accessing elements in a dictionary.\n",
        "\n",
        "**Answer:**  \n",
        "Dictionary key access is **average O(1)** due to the underlying hash table.  \n",
        "Worst-case can degrade toward **O(n)** (e.g., pathological hash collisions), but this is rare in practice."
      ]
    },
    {
      "cell_type": "markdown",
      "id": "364c8482",
      "metadata": {
        "id": "364c8482"
      },
      "source": [
        "### 18) In what situations are lists preferred over dictionaries?\n",
        "\n",
        "**Answer:**  \n",
        "Use **lists** when **order matters**, when you need **indexed positional access**, or when the data is a **sequence** without named keys—e.g., an ordered to-do list or a time series."
      ]
    },
    {
      "cell_type": "markdown",
      "id": "55e297c3",
      "metadata": {
        "id": "55e297c3"
      },
      "source": [
        "### 19) Why are dictionaries considered unordered, and how does that affect data retrieval?\n",
        "\n",
        "**Answer:**  \n",
        "Historically, dictionaries were **unordered** mappings. Modern Python preserves **insertion order** (CPython 3.7+), but conceptually a dict is about **key → value** mapping, not positional indexing. Retrieval is by **key**, not by the element’s position."
      ]
    },
    {
      "cell_type": "markdown",
      "id": "586b4abc",
      "metadata": {
        "id": "586b4abc"
      },
      "source": [
        "### 20) Explain the difference between a list and a dictionary in terms of data retrieval.\n",
        "\n",
        "**Answer:**  \n",
        "- **List:** Retrieve by **index** (position).  \n",
        "- **Dictionary:** Retrieve by **key** (label).\n",
        "\n",
        "**Example:**  \n",
        "```python\n",
        "names = [\"Asha\", \"Rahul\"]         # list: names[0]\n",
        "age = {\"Asha\": 20, \"Rahul\": 21}   # dict: age[\"Asha\"]\n",
        "```"
      ]
    },
    {
      "cell_type": "markdown",
      "id": "a193aaaa",
      "metadata": {
        "id": "a193aaaa"
      },
      "source": [
        "---\n",
        "\n",
        "## Practical Questions (Coding)"
      ]
    },
    {
      "cell_type": "markdown",
      "id": "500754b7",
      "metadata": {
        "id": "500754b7"
      },
      "source": [
        "### 1. Write a code to create a string with your name and print it."
      ]
    },
    {
      "cell_type": "code",
      "execution_count": null,
      "id": "9c16faf1",
      "metadata": {
        "execution": {
          "iopub.execute_input": "2025-09-25T14:48:59.234290Z",
          "iopub.status.busy": "2025-09-25T14:48:59.233878Z",
          "iopub.status.idle": "2025-09-25T14:48:59.244338Z",
          "shell.execute_reply": "2025-09-25T14:48:59.243203Z"
        },
        "id": "9c16faf1",
        "outputId": "3805209c-42d7-47aa-c732-e91f6f11b375"
      },
      "outputs": [
        {
          "name": "stdout",
          "output_type": "stream",
          "text": [
            "Drishya Uniyal\n"
          ]
        }
      ],
      "source": [
        "name_str = \"Drishya Uniyal\"\n",
        "print(name_str)"
      ]
    },
    {
      "cell_type": "markdown",
      "id": "04c081c7",
      "metadata": {
        "id": "04c081c7"
      },
      "source": [
        "### 2. Write a code to find the length of the string \"Hello World\"."
      ]
    },
    {
      "cell_type": "code",
      "execution_count": null,
      "id": "d594a6e0",
      "metadata": {
        "execution": {
          "iopub.execute_input": "2025-09-25T14:48:59.249203Z",
          "iopub.status.busy": "2025-09-25T14:48:59.248778Z",
          "iopub.status.idle": "2025-09-25T14:48:59.255253Z",
          "shell.execute_reply": "2025-09-25T14:48:59.253769Z"
        },
        "id": "d594a6e0",
        "outputId": "07493e80-39a8-4c18-b74f-7ebdb1227902"
      },
      "outputs": [
        {
          "name": "stdout",
          "output_type": "stream",
          "text": [
            "11\n"
          ]
        }
      ],
      "source": [
        "s = \"Hello World\"\n",
        "print(len(s))"
      ]
    },
    {
      "cell_type": "markdown",
      "id": "19d1cd0f",
      "metadata": {
        "id": "19d1cd0f"
      },
      "source": [
        "### 3. Write a code to slice the first 3 characters from the string \"Python Programming\"."
      ]
    },
    {
      "cell_type": "code",
      "execution_count": null,
      "id": "c1e8663d",
      "metadata": {
        "execution": {
          "iopub.execute_input": "2025-09-25T14:48:59.259827Z",
          "iopub.status.busy": "2025-09-25T14:48:59.259216Z",
          "iopub.status.idle": "2025-09-25T14:48:59.264593Z",
          "shell.execute_reply": "2025-09-25T14:48:59.263548Z"
        },
        "id": "c1e8663d",
        "outputId": "46dceb2a-f806-42df-ced6-48a1aa8b8f66"
      },
      "outputs": [
        {
          "name": "stdout",
          "output_type": "stream",
          "text": [
            "Pyt\n"
          ]
        }
      ],
      "source": [
        "s = \"Python Programming\"\n",
        "print(s[:3])  # 'Pyt'"
      ]
    },
    {
      "cell_type": "markdown",
      "id": "83d10a42",
      "metadata": {
        "id": "83d10a42"
      },
      "source": [
        "### 4. Write a code to convert the string \"hello\" to uppercase."
      ]
    },
    {
      "cell_type": "code",
      "execution_count": null,
      "id": "28146649",
      "metadata": {
        "execution": {
          "iopub.execute_input": "2025-09-25T14:48:59.269527Z",
          "iopub.status.busy": "2025-09-25T14:48:59.269130Z",
          "iopub.status.idle": "2025-09-25T14:48:59.274113Z",
          "shell.execute_reply": "2025-09-25T14:48:59.273094Z"
        },
        "id": "28146649",
        "outputId": "72841ffa-873a-4d34-b9c0-d5cc6cdb96e7"
      },
      "outputs": [
        {
          "name": "stdout",
          "output_type": "stream",
          "text": [
            "HELLO\n"
          ]
        }
      ],
      "source": [
        "print(\"hello\".upper())"
      ]
    },
    {
      "cell_type": "markdown",
      "id": "1c7ea760",
      "metadata": {
        "id": "1c7ea760"
      },
      "source": [
        "### 5. Write a code to replace the word \"apple\" with \"orange\" in the string \"I like apple\"."
      ]
    },
    {
      "cell_type": "code",
      "execution_count": null,
      "id": "d4d0237d",
      "metadata": {
        "execution": {
          "iopub.execute_input": "2025-09-25T14:48:59.278896Z",
          "iopub.status.busy": "2025-09-25T14:48:59.278315Z",
          "iopub.status.idle": "2025-09-25T14:48:59.283780Z",
          "shell.execute_reply": "2025-09-25T14:48:59.282689Z"
        },
        "id": "d4d0237d",
        "outputId": "ff4ff408-1b2d-4403-b4a1-4b5060233231"
      },
      "outputs": [
        {
          "name": "stdout",
          "output_type": "stream",
          "text": [
            "I like orange\n"
          ]
        }
      ],
      "source": [
        "s = \"I like apple\"\n",
        "print(s.replace(\"apple\", \"orange\"))"
      ]
    },
    {
      "cell_type": "markdown",
      "id": "8f380395",
      "metadata": {
        "id": "8f380395"
      },
      "source": [
        "### 6. Write a code to create a list with numbers 1 to 5 and print it."
      ]
    },
    {
      "cell_type": "code",
      "execution_count": null,
      "id": "c3f64acc",
      "metadata": {
        "execution": {
          "iopub.execute_input": "2025-09-25T14:48:59.288008Z",
          "iopub.status.busy": "2025-09-25T14:48:59.287459Z",
          "iopub.status.idle": "2025-09-25T14:48:59.293209Z",
          "shell.execute_reply": "2025-09-25T14:48:59.292497Z"
        },
        "id": "c3f64acc",
        "outputId": "7af222c9-fdc6-4ba2-ea86-4eda52999dfd"
      },
      "outputs": [
        {
          "name": "stdout",
          "output_type": "stream",
          "text": [
            "[1, 2, 3, 4, 5]\n"
          ]
        }
      ],
      "source": [
        "lst = [1, 2, 3, 4, 5]\n",
        "print(lst)"
      ]
    },
    {
      "cell_type": "markdown",
      "id": "429d9491",
      "metadata": {
        "id": "429d9491"
      },
      "source": [
        "### 7. Write a code to append the number 10 to the list [1, 2, 3, 4]."
      ]
    },
    {
      "cell_type": "code",
      "execution_count": null,
      "id": "437b9459",
      "metadata": {
        "execution": {
          "iopub.execute_input": "2025-09-25T14:48:59.298111Z",
          "iopub.status.busy": "2025-09-25T14:48:59.297787Z",
          "iopub.status.idle": "2025-09-25T14:48:59.302735Z",
          "shell.execute_reply": "2025-09-25T14:48:59.301592Z"
        },
        "id": "437b9459",
        "outputId": "3b70eada-54e1-4f40-8d68-9ba0716e47fd"
      },
      "outputs": [
        {
          "name": "stdout",
          "output_type": "stream",
          "text": [
            "[1, 2, 3, 4, 10]\n"
          ]
        }
      ],
      "source": [
        "lst = [1, 2, 3, 4]\n",
        "lst.append(10)\n",
        "print(lst)"
      ]
    },
    {
      "cell_type": "markdown",
      "id": "bf044f88",
      "metadata": {
        "id": "bf044f88"
      },
      "source": [
        "### 8. Write a code to remove the number 3 from the list [1, 2, 3, 4, 5]."
      ]
    },
    {
      "cell_type": "code",
      "execution_count": null,
      "id": "5f3b14e5",
      "metadata": {
        "execution": {
          "iopub.execute_input": "2025-09-25T14:48:59.306901Z",
          "iopub.status.busy": "2025-09-25T14:48:59.306369Z",
          "iopub.status.idle": "2025-09-25T14:48:59.369212Z",
          "shell.execute_reply": "2025-09-25T14:48:59.367507Z"
        },
        "id": "5f3b14e5",
        "outputId": "8ab6b85f-0910-43d2-99e0-6cbdecc13400"
      },
      "outputs": [
        {
          "name": "stdout",
          "output_type": "stream",
          "text": [
            "[1, 2, 4, 5]\n"
          ]
        }
      ],
      "source": [
        "lst = [1, 2, 3, 4, 5]\n",
        "lst.remove(3)\n",
        "print(lst)"
      ]
    },
    {
      "cell_type": "markdown",
      "id": "a1c8870b",
      "metadata": {
        "id": "a1c8870b"
      },
      "source": [
        "### 9. Write a code to access the second element in the list ['a', 'b', 'c', 'd']."
      ]
    },
    {
      "cell_type": "code",
      "execution_count": null,
      "id": "45bd37f0",
      "metadata": {
        "execution": {
          "iopub.execute_input": "2025-09-25T14:48:59.375303Z",
          "iopub.status.busy": "2025-09-25T14:48:59.374689Z",
          "iopub.status.idle": "2025-09-25T14:48:59.380678Z",
          "shell.execute_reply": "2025-09-25T14:48:59.379277Z"
        },
        "id": "45bd37f0",
        "outputId": "1d19e6da-e999-426a-c03d-41a39b63cdc7"
      },
      "outputs": [
        {
          "name": "stdout",
          "output_type": "stream",
          "text": [
            "b\n"
          ]
        }
      ],
      "source": [
        "lst = ['a', 'b', 'c', 'd']\n",
        "print(lst[1])"
      ]
    },
    {
      "cell_type": "markdown",
      "id": "38583cd1",
      "metadata": {
        "id": "38583cd1"
      },
      "source": [
        "### 10. Write a code to reverse the list [10, 20, 30, 40, 50]."
      ]
    },
    {
      "cell_type": "code",
      "execution_count": null,
      "id": "6a3f0df5",
      "metadata": {
        "execution": {
          "iopub.execute_input": "2025-09-25T14:48:59.385742Z",
          "iopub.status.busy": "2025-09-25T14:48:59.385301Z",
          "iopub.status.idle": "2025-09-25T14:48:59.390760Z",
          "shell.execute_reply": "2025-09-25T14:48:59.389673Z"
        },
        "id": "6a3f0df5",
        "outputId": "78f2107d-fdf3-498b-8f03-5ac3522e08d9"
      },
      "outputs": [
        {
          "name": "stdout",
          "output_type": "stream",
          "text": [
            "[50, 40, 30, 20, 10]\n"
          ]
        }
      ],
      "source": [
        "lst = [10, 20, 30, 40, 50]\n",
        "lst.reverse()\n",
        "print(lst)"
      ]
    },
    {
      "cell_type": "markdown",
      "id": "20c33262",
      "metadata": {
        "id": "20c33262"
      },
      "source": [
        "### 11. Write a code to create a tuple with the elements 100, 200, 300 and print it."
      ]
    },
    {
      "cell_type": "code",
      "execution_count": null,
      "id": "f6452337",
      "metadata": {
        "execution": {
          "iopub.execute_input": "2025-09-25T14:48:59.394780Z",
          "iopub.status.busy": "2025-09-25T14:48:59.394239Z",
          "iopub.status.idle": "2025-09-25T14:48:59.400018Z",
          "shell.execute_reply": "2025-09-25T14:48:59.399186Z"
        },
        "id": "f6452337",
        "outputId": "7b715386-4fb2-435b-b079-2c113b880e06"
      },
      "outputs": [
        {
          "name": "stdout",
          "output_type": "stream",
          "text": [
            "(100, 200, 300)\n"
          ]
        }
      ],
      "source": [
        "t = (100, 200, 300)\n",
        "print(t)"
      ]
    },
    {
      "cell_type": "markdown",
      "id": "9cb18d36",
      "metadata": {
        "id": "9cb18d36"
      },
      "source": [
        "### 12. Write a code to access the second-to-last element of the tuple ('red', 'green', 'blue', 'yellow')."
      ]
    },
    {
      "cell_type": "code",
      "execution_count": null,
      "id": "aea26d73",
      "metadata": {
        "execution": {
          "iopub.execute_input": "2025-09-25T14:48:59.405053Z",
          "iopub.status.busy": "2025-09-25T14:48:59.404715Z",
          "iopub.status.idle": "2025-09-25T14:48:59.471553Z",
          "shell.execute_reply": "2025-09-25T14:48:59.470044Z"
        },
        "id": "aea26d73",
        "outputId": "e7f50886-0a63-487e-c225-e2436a1916da"
      },
      "outputs": [
        {
          "name": "stdout",
          "output_type": "stream",
          "text": [
            "blue\n"
          ]
        }
      ],
      "source": [
        "t = ('red', 'green', 'blue', 'yellow')\n",
        "print(t[-2])"
      ]
    },
    {
      "cell_type": "markdown",
      "id": "2c1d848d",
      "metadata": {
        "id": "2c1d848d"
      },
      "source": [
        "### 13. Write a code to find the minimum number in the tuple (10, 20, 5, 15)."
      ]
    },
    {
      "cell_type": "code",
      "execution_count": null,
      "id": "47694986",
      "metadata": {
        "execution": {
          "iopub.execute_input": "2025-09-25T14:48:59.476748Z",
          "iopub.status.busy": "2025-09-25T14:48:59.476345Z",
          "iopub.status.idle": "2025-09-25T14:48:59.481507Z",
          "shell.execute_reply": "2025-09-25T14:48:59.480510Z"
        },
        "id": "47694986",
        "outputId": "dc33ac9f-db76-43f6-e4f8-304278d80b94"
      },
      "outputs": [
        {
          "name": "stdout",
          "output_type": "stream",
          "text": [
            "5\n"
          ]
        }
      ],
      "source": [
        "t = (10, 20, 5, 15)\n",
        "print(min(t))"
      ]
    },
    {
      "cell_type": "markdown",
      "id": "2df3ae6d",
      "metadata": {
        "id": "2df3ae6d"
      },
      "source": [
        "### 14. Write a code to find the index of the element \"cat\" in the tuple ('dog', 'cat', 'rabbit')."
      ]
    },
    {
      "cell_type": "code",
      "execution_count": null,
      "id": "76d07c37",
      "metadata": {
        "execution": {
          "iopub.execute_input": "2025-09-25T14:48:59.486035Z",
          "iopub.status.busy": "2025-09-25T14:48:59.485670Z",
          "iopub.status.idle": "2025-09-25T14:48:59.490613Z",
          "shell.execute_reply": "2025-09-25T14:48:59.489864Z"
        },
        "id": "76d07c37",
        "outputId": "0ad5cb5f-d106-4bf6-c5f7-d8bdc3c397d0"
      },
      "outputs": [
        {
          "name": "stdout",
          "output_type": "stream",
          "text": [
            "1\n"
          ]
        }
      ],
      "source": [
        "t = ('dog', 'cat', 'rabbit')\n",
        "print(t.index(\"cat\"))"
      ]
    },
    {
      "cell_type": "markdown",
      "id": "03e5f310",
      "metadata": {
        "id": "03e5f310"
      },
      "source": [
        "### 15. Write a code to create a tuple containing three different fruits and check if \"kiwi\" is in it."
      ]
    },
    {
      "cell_type": "code",
      "execution_count": null,
      "id": "27299be1",
      "metadata": {
        "execution": {
          "iopub.execute_input": "2025-09-25T14:48:59.495181Z",
          "iopub.status.busy": "2025-09-25T14:48:59.494547Z",
          "iopub.status.idle": "2025-09-25T14:48:59.499886Z",
          "shell.execute_reply": "2025-09-25T14:48:59.498967Z"
        },
        "id": "27299be1",
        "outputId": "4a53db00-453c-49c6-dfd5-db461f2c5040"
      },
      "outputs": [
        {
          "name": "stdout",
          "output_type": "stream",
          "text": [
            "False\n"
          ]
        }
      ],
      "source": [
        "fruits = (\"apple\", \"banana\", \"mango\")\n",
        "print(\"kiwi\" in fruits)"
      ]
    },
    {
      "cell_type": "markdown",
      "id": "53fcbe20",
      "metadata": {
        "id": "53fcbe20"
      },
      "source": [
        "### 16. Write a code to create a set with the elements 'a', 'b', 'c' and print it."
      ]
    },
    {
      "cell_type": "code",
      "execution_count": null,
      "id": "52a3ba4b",
      "metadata": {
        "execution": {
          "iopub.execute_input": "2025-09-25T14:48:59.569104Z",
          "iopub.status.busy": "2025-09-25T14:48:59.568668Z",
          "iopub.status.idle": "2025-09-25T14:48:59.574578Z",
          "shell.execute_reply": "2025-09-25T14:48:59.573606Z"
        },
        "id": "52a3ba4b",
        "outputId": "73fa39a5-e62f-4a33-eaf7-ea08d4c4951c"
      },
      "outputs": [
        {
          "name": "stdout",
          "output_type": "stream",
          "text": [
            "{'a', 'c', 'b'}\n"
          ]
        }
      ],
      "source": [
        "s = {'a', 'b', 'c'}\n",
        "print(s)"
      ]
    },
    {
      "cell_type": "markdown",
      "id": "0e7e1ba1",
      "metadata": {
        "id": "0e7e1ba1"
      },
      "source": [
        "### 17. Write a code to clear all elements from the set {1, 2, 3, 4, 5}."
      ]
    },
    {
      "cell_type": "code",
      "execution_count": null,
      "id": "f15ac660",
      "metadata": {
        "execution": {
          "iopub.execute_input": "2025-09-25T14:48:59.579775Z",
          "iopub.status.busy": "2025-09-25T14:48:59.579342Z",
          "iopub.status.idle": "2025-09-25T14:48:59.585621Z",
          "shell.execute_reply": "2025-09-25T14:48:59.584474Z"
        },
        "id": "f15ac660",
        "outputId": "16de5c44-78f0-45a6-a9bf-986b875b4781"
      },
      "outputs": [
        {
          "name": "stdout",
          "output_type": "stream",
          "text": [
            "set()\n"
          ]
        }
      ],
      "source": [
        "s = {1, 2, 3, 4, 5}\n",
        "s.clear()\n",
        "print(s)"
      ]
    },
    {
      "cell_type": "markdown",
      "id": "4c4a4165",
      "metadata": {
        "id": "4c4a4165"
      },
      "source": [
        "### 18. Write a code to remove the element 4 from the set {1, 2, 3, 4}."
      ]
    },
    {
      "cell_type": "code",
      "execution_count": null,
      "id": "1571d977",
      "metadata": {
        "execution": {
          "iopub.execute_input": "2025-09-25T14:48:59.590034Z",
          "iopub.status.busy": "2025-09-25T14:48:59.589616Z",
          "iopub.status.idle": "2025-09-25T14:48:59.595236Z",
          "shell.execute_reply": "2025-09-25T14:48:59.594291Z"
        },
        "id": "1571d977",
        "outputId": "f9176a34-fa86-4d60-b88d-daafb29050c6"
      },
      "outputs": [
        {
          "name": "stdout",
          "output_type": "stream",
          "text": [
            "{1, 2, 3}\n"
          ]
        }
      ],
      "source": [
        "s = {1, 2, 3, 4}\n",
        "s.remove(4)\n",
        "print(s)"
      ]
    },
    {
      "cell_type": "markdown",
      "id": "1f429be9",
      "metadata": {
        "id": "1f429be9"
      },
      "source": [
        "### 19. Write a code to find the union of two sets {1, 2, 3} and {3, 4, 5}."
      ]
    },
    {
      "cell_type": "code",
      "execution_count": null,
      "id": "7e119505",
      "metadata": {
        "execution": {
          "iopub.execute_input": "2025-09-25T14:48:59.599983Z",
          "iopub.status.busy": "2025-09-25T14:48:59.599378Z",
          "iopub.status.idle": "2025-09-25T14:48:59.605049Z",
          "shell.execute_reply": "2025-09-25T14:48:59.603967Z"
        },
        "id": "7e119505",
        "outputId": "5a332c23-1590-4b4f-d6c1-0d9521efbf3a"
      },
      "outputs": [
        {
          "name": "stdout",
          "output_type": "stream",
          "text": [
            "{1, 2, 3, 4, 5}\n"
          ]
        }
      ],
      "source": [
        "a = {1, 2, 3}\n",
        "b = {3, 4, 5}\n",
        "print(a | b)   # or a.union(b)"
      ]
    },
    {
      "cell_type": "markdown",
      "id": "0c8c2630",
      "metadata": {
        "id": "0c8c2630"
      },
      "source": [
        "### 20. Write a code to find the intersection of two sets {1, 2, 3} and {2, 3, 4}."
      ]
    },
    {
      "cell_type": "code",
      "execution_count": null,
      "id": "f68c02aa",
      "metadata": {
        "execution": {
          "iopub.execute_input": "2025-09-25T14:48:59.686622Z",
          "iopub.status.busy": "2025-09-25T14:48:59.686078Z",
          "iopub.status.idle": "2025-09-25T14:48:59.692550Z",
          "shell.execute_reply": "2025-09-25T14:48:59.691110Z"
        },
        "id": "f68c02aa",
        "outputId": "6f35849e-5ea5-4be6-dbeb-f3b1cc2fb5b9"
      },
      "outputs": [
        {
          "name": "stdout",
          "output_type": "stream",
          "text": [
            "{2, 3}\n"
          ]
        }
      ],
      "source": [
        "a = {1, 2, 3}\n",
        "b = {2, 3, 4}\n",
        "print(a & b)   # or a.intersection(b)"
      ]
    },
    {
      "cell_type": "markdown",
      "id": "d0908425",
      "metadata": {
        "id": "d0908425"
      },
      "source": [
        "### 21. Write a code to create a dictionary with the keys \"name\", \"age\", and \"city\", and print it."
      ]
    },
    {
      "cell_type": "code",
      "execution_count": null,
      "id": "1c9ef21b",
      "metadata": {
        "execution": {
          "iopub.execute_input": "2025-09-25T14:48:59.697025Z",
          "iopub.status.busy": "2025-09-25T14:48:59.696572Z",
          "iopub.status.idle": "2025-09-25T14:48:59.702573Z",
          "shell.execute_reply": "2025-09-25T14:48:59.701355Z"
        },
        "id": "1c9ef21b",
        "outputId": "fbf624cc-faf9-44bc-eb31-753621e2938f"
      },
      "outputs": [
        {
          "name": "stdout",
          "output_type": "stream",
          "text": [
            "{'name': 'John', 'age': 25, 'city': 'Delhi'}\n"
          ]
        }
      ],
      "source": [
        "person = {\"name\": \"John\", \"age\": 25, \"city\": \"Delhi\"}\n",
        "print(person)"
      ]
    },
    {
      "cell_type": "markdown",
      "id": "eb4a7181",
      "metadata": {
        "id": "eb4a7181"
      },
      "source": [
        "### 22. Write a code to add a new key-value pair \"country\": \"USA\" to the dictionary {'name': 'John', 'age': 25}."
      ]
    },
    {
      "cell_type": "code",
      "execution_count": null,
      "id": "823f7e36",
      "metadata": {
        "execution": {
          "iopub.execute_input": "2025-09-25T14:48:59.707291Z",
          "iopub.status.busy": "2025-09-25T14:48:59.706655Z",
          "iopub.status.idle": "2025-09-25T14:48:59.712730Z",
          "shell.execute_reply": "2025-09-25T14:48:59.711505Z"
        },
        "id": "823f7e36",
        "outputId": "185d1a65-cb6e-41bb-c23b-842d5549ad13"
      },
      "outputs": [
        {
          "name": "stdout",
          "output_type": "stream",
          "text": [
            "{'name': 'John', 'age': 25, 'country': 'USA'}\n"
          ]
        }
      ],
      "source": [
        "d = {'name': 'John', 'age': 25}\n",
        "d['country'] = 'USA'\n",
        "print(d)"
      ]
    },
    {
      "cell_type": "markdown",
      "id": "c1b170c4",
      "metadata": {
        "id": "c1b170c4"
      },
      "source": [
        "### 23. Write a code to access the value associated with the key \"name\" in the dictionary {'name': 'Alice', 'age': 30}."
      ]
    },
    {
      "cell_type": "code",
      "execution_count": null,
      "id": "456dd33a",
      "metadata": {
        "execution": {
          "iopub.execute_input": "2025-09-25T14:48:59.717158Z",
          "iopub.status.busy": "2025-09-25T14:48:59.716810Z",
          "iopub.status.idle": "2025-09-25T14:48:59.768579Z",
          "shell.execute_reply": "2025-09-25T14:48:59.766743Z"
        },
        "id": "456dd33a",
        "outputId": "6148632c-a927-481f-d4fe-5ac4e6299ec7"
      },
      "outputs": [
        {
          "name": "stdout",
          "output_type": "stream",
          "text": [
            "Alice\n"
          ]
        }
      ],
      "source": [
        "d = {'name': 'Alice', 'age': 30}\n",
        "print(d['name'])"
      ]
    },
    {
      "cell_type": "markdown",
      "id": "4684b071",
      "metadata": {
        "id": "4684b071"
      },
      "source": [
        "### 24. Write a code to remove the key \"age\" from the dictionary {'name': 'Bob', 'age': 22, 'city': 'New York'}."
      ]
    },
    {
      "cell_type": "code",
      "execution_count": null,
      "id": "d1bca426",
      "metadata": {
        "execution": {
          "iopub.execute_input": "2025-09-25T14:48:59.773565Z",
          "iopub.status.busy": "2025-09-25T14:48:59.773181Z",
          "iopub.status.idle": "2025-09-25T14:48:59.780147Z",
          "shell.execute_reply": "2025-09-25T14:48:59.778865Z"
        },
        "id": "d1bca426",
        "outputId": "5208bfe2-3b33-4ad7-c9a9-566161c095fe"
      },
      "outputs": [
        {
          "name": "stdout",
          "output_type": "stream",
          "text": [
            "{'name': 'Bob', 'city': 'New York'} | removed age = 22\n"
          ]
        }
      ],
      "source": [
        "d = {'name': 'Bob', 'age': 22, 'city': 'New York'}\n",
        "removed = d.pop('age')\n",
        "print(d, '| removed age =', removed)"
      ]
    },
    {
      "cell_type": "markdown",
      "id": "f5a5177b",
      "metadata": {
        "id": "f5a5177b"
      },
      "source": [
        "### 25. Write a code to check if the key \"city\" exists in the dictionary {'name': 'Alice', 'city': 'Paris'}."
      ]
    },
    {
      "cell_type": "code",
      "execution_count": null,
      "id": "92a491d5",
      "metadata": {
        "execution": {
          "iopub.execute_input": "2025-09-25T14:48:59.785850Z",
          "iopub.status.busy": "2025-09-25T14:48:59.785381Z",
          "iopub.status.idle": "2025-09-25T14:48:59.791557Z",
          "shell.execute_reply": "2025-09-25T14:48:59.790744Z"
        },
        "id": "92a491d5",
        "outputId": "6b780913-ce06-4af6-8eae-62664bc517b5"
      },
      "outputs": [
        {
          "name": "stdout",
          "output_type": "stream",
          "text": [
            "True\n"
          ]
        }
      ],
      "source": [
        "d = {'name': 'Alice', 'city': 'Paris'}\n",
        "print('city' in d)"
      ]
    },
    {
      "cell_type": "markdown",
      "id": "bdc761a0",
      "metadata": {
        "id": "bdc761a0"
      },
      "source": [
        "### 26. Write a code to create a list, a tuple, and a dictionary, and print them all."
      ]
    },
    {
      "cell_type": "code",
      "execution_count": null,
      "id": "15cfa95c",
      "metadata": {
        "execution": {
          "iopub.execute_input": "2025-09-25T14:48:59.796107Z",
          "iopub.status.busy": "2025-09-25T14:48:59.795738Z",
          "iopub.status.idle": "2025-09-25T14:48:59.801252Z",
          "shell.execute_reply": "2025-09-25T14:48:59.800598Z"
        },
        "id": "15cfa95c",
        "outputId": "e4ef3311-b395-42a3-9a54-6dacc586155f"
      },
      "outputs": [
        {
          "name": "stdout",
          "output_type": "stream",
          "text": [
            "[1, 2, 3]\n",
            "('x', 'y', 'z')\n",
            "{'a': 1, 'b': 2}\n"
          ]
        }
      ],
      "source": [
        "lst = [1, 2, 3]\n",
        "tup = ('x', 'y', 'z')\n",
        "dic = {'a': 1, 'b': 2}\n",
        "print(lst)\n",
        "print(tup)\n",
        "print(dic)"
      ]
    },
    {
      "cell_type": "markdown",
      "id": "352ca395",
      "metadata": {
        "id": "352ca395"
      },
      "source": [
        "### 27. Write a code to create a list of 5 random numbers between 1 and 100, sort it in ascending order, and print the result."
      ]
    },
    {
      "cell_type": "code",
      "execution_count": null,
      "id": "8d8c5706",
      "metadata": {
        "execution": {
          "iopub.execute_input": "2025-09-25T14:48:59.805355Z",
          "iopub.status.busy": "2025-09-25T14:48:59.804957Z",
          "iopub.status.idle": "2025-09-25T14:48:59.868631Z",
          "shell.execute_reply": "2025-09-25T14:48:59.867812Z"
        },
        "id": "8d8c5706",
        "outputId": "13fc2f49-21d5-40dc-8c0c-a6e5e34fa98d"
      },
      "outputs": [
        {
          "name": "stdout",
          "output_type": "stream",
          "text": [
            "[4, 15, 36, 82, 95]\n"
          ]
        }
      ],
      "source": [
        "import random\n",
        "random.seed(42)  # deterministic\n",
        "lst = random.sample(range(1, 101), 5)\n",
        "lst.sort()\n",
        "print(lst)"
      ]
    },
    {
      "cell_type": "markdown",
      "id": "50c24544",
      "metadata": {
        "id": "50c24544"
      },
      "source": [
        "### 28. Write a code to create a list with strings and print the element at the third index."
      ]
    },
    {
      "cell_type": "code",
      "execution_count": null,
      "id": "9074cdd2",
      "metadata": {
        "execution": {
          "iopub.execute_input": "2025-09-25T14:48:59.873424Z",
          "iopub.status.busy": "2025-09-25T14:48:59.872938Z",
          "iopub.status.idle": "2025-09-25T14:48:59.878723Z",
          "shell.execute_reply": "2025-09-25T14:48:59.877590Z"
        },
        "id": "9074cdd2",
        "outputId": "95a04198-cf03-4b25-db72-1f92c2802abe"
      },
      "outputs": [
        {
          "name": "stdout",
          "output_type": "stream",
          "text": [
            "delta\n"
          ]
        }
      ],
      "source": [
        "lst = [\"alpha\", \"beta\", \"gamma\", \"delta\", \"epsilon\"]\n",
        "print(lst[3])  # third index => 4th element"
      ]
    },
    {
      "cell_type": "markdown",
      "id": "a93e72a6",
      "metadata": {
        "id": "a93e72a6"
      },
      "source": [
        "### 29. Write a code to combine two dictionaries into one and print the result."
      ]
    },
    {
      "cell_type": "code",
      "execution_count": null,
      "id": "d174a00c",
      "metadata": {
        "execution": {
          "iopub.execute_input": "2025-09-25T14:48:59.883492Z",
          "iopub.status.busy": "2025-09-25T14:48:59.883025Z",
          "iopub.status.idle": "2025-09-25T14:48:59.889606Z",
          "shell.execute_reply": "2025-09-25T14:48:59.888484Z"
        },
        "id": "d174a00c",
        "outputId": "397747da-a387-4e2e-eaab-36402220c073"
      },
      "outputs": [
        {
          "name": "stdout",
          "output_type": "stream",
          "text": [
            "{'x': 1, 'y': 20, 'z': 3}\n"
          ]
        }
      ],
      "source": [
        "a = {'x': 1, 'y': 2}\n",
        "b = {'y': 20, 'z': 3}\n",
        "combined = {**a, **b}  # b's values override on key conflicts\n",
        "print(combined)"
      ]
    },
    {
      "cell_type": "markdown",
      "id": "f3b290bd",
      "metadata": {
        "id": "f3b290bd"
      },
      "source": [
        "### 30. Write a code to convert a list of strings into a set."
      ]
    },
    {
      "cell_type": "code",
      "execution_count": null,
      "id": "65bc8cb0",
      "metadata": {
        "execution": {
          "iopub.execute_input": "2025-09-25T14:48:59.894599Z",
          "iopub.status.busy": "2025-09-25T14:48:59.894059Z",
          "iopub.status.idle": "2025-09-25T14:48:59.900395Z",
          "shell.execute_reply": "2025-09-25T14:48:59.899398Z"
        },
        "id": "65bc8cb0",
        "outputId": "9b9ee50a-4342-4fe5-e3f7-3add4ddb707f"
      },
      "outputs": [
        {
          "name": "stdout",
          "output_type": "stream",
          "text": [
            "{'Rahul', 'Asha', 'Meera'}\n"
          ]
        }
      ],
      "source": [
        "names = [\"Asha\", \"Rahul\", \"Asha\", \"Meera\"]\n",
        "names_set = set(names)\n",
        "print(names_set)"
      ]
    }
  ],
  "metadata": {
    "language_info": {
      "codemirror_mode": {
        "name": "ipython",
        "version": 3
      },
      "file_extension": ".py",
      "mimetype": "text/x-python",
      "name": "python",
      "nbconvert_exporter": "python",
      "pygments_lexer": "ipython3",
      "version": "3.11.8"
    },
    "colab": {
      "provenance": []
    }
  },
  "nbformat": 4,
  "nbformat_minor": 5
}